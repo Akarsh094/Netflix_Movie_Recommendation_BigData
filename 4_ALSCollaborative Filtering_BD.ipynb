{
 "cells": [
  {
   "cell_type": "markdown",
   "metadata": {},
   "source": [
    "# Big Data Platforms\n",
    "\n",
    "## Movie Recommender System - Collaborative Filtering\n"
   ]
  },
  {
   "cell_type": "code",
   "execution_count": 2,
   "metadata": {},
   "outputs": [],
   "source": [
    "from pyspark.sql import SparkSession\n",
    "spark = SparkSession.builder.appName('MovieRecommender').getOrCreate()\n",
    "from pyspark.ml.recommendation import ALS\n",
    "from pyspark.ml.evaluation import RegressionEvaluator"
   ]
  },
  {
   "cell_type": "code",
   "execution_count": 3,
   "metadata": {},
   "outputs": [],
   "source": [
    "from pyspark.sql import HiveContext\n",
    "hive_context = HiveContext(sc)"
   ]
  },
  {
   "cell_type": "code",
   "execution_count": 4,
   "metadata": {},
   "outputs": [],
   "source": [
    "df = hive_context.table(\"akarshsahu.processed_dataset_v3\")"
   ]
  },
  {
   "cell_type": "code",
   "execution_count": 5,
   "metadata": {},
   "outputs": [
    {
     "data": {
      "text/plain": [
       "['Movie_Id',\n",
       " 'Cust_Id',\n",
       " 'Rating',\n",
       " 'tconst',\n",
       " 'Year',\n",
       " 'Name',\n",
       " 'primaryTitle',\n",
       " 'titleType',\n",
       " 'runtimeMinutes',\n",
       " 'startYear',\n",
       " 'isAdult',\n",
       " 'genres',\n",
       " 'averageRating',\n",
       " 'numVotes',\n",
       " 'Actor_0',\n",
       " 'Actor_1',\n",
       " 'Actor_2',\n",
       " 'Actor_3',\n",
       " 'Actor_4',\n",
       " 'Actor_5',\n",
       " 'Actor_6',\n",
       " 'Actor_7',\n",
       " 'Actor_8',\n",
       " 'Actor_9',\n",
       " 'Director_0',\n",
       " 'Director_1',\n",
       " 'Director_2',\n",
       " 'Director_3',\n",
       " 'Director_4',\n",
       " 'Director_5',\n",
       " 'genres_split',\n",
       " 'Act_Cri_Thr_Myst_Hor',\n",
       " 'Ad_Fan_Sci_Ani',\n",
       " 'Bio_War_Hist_Doc',\n",
       " 'Mus_Musi_Fam',\n",
       " 'Noir_West',\n",
       " 'Ad_Rom',\n",
       " 'Drama_n',\n",
       " 'Comedy_n',\n",
       " 'TopActor',\n",
       " 'TopDirector']"
      ]
     },
     "execution_count": 5,
     "metadata": {},
     "output_type": "execute_result"
    }
   ],
   "source": [
    "df.columns"
   ]
  },
  {
   "cell_type": "code",
   "execution_count": null,
   "metadata": {},
   "outputs": [],
   "source": [
    "movie_title = df.select(['Movie_Id', 'Name']).grou"
   ]
  },
  {
   "cell_type": "code",
   "execution_count": 38,
   "metadata": {},
   "outputs": [
    {
     "name": "stdout",
     "output_type": "stream",
     "text": [
      "+-------+--------+---------+------+\n",
      "|Cust_Id|Movie_Id|     Name|Rating|\n",
      "+-------+--------+---------+------+\n",
      "| 770129|    7706|Silverado|   4.0|\n",
      "|1931185|    7706|Silverado|   5.0|\n",
      "| 250166|    7706|Silverado|   5.0|\n",
      "| 328654|    7706|Silverado|   3.0|\n",
      "|2414873|    7706|Silverado|   4.0|\n",
      "|1239283|    7706|Silverado|   2.0|\n",
      "|1057021|    7706|Silverado|   4.0|\n",
      "|2633985|    7706|Silverado|   3.0|\n",
      "|2419562|    7706|Silverado|   5.0|\n",
      "|1047788|    7706|Silverado|   2.0|\n",
      "| 701678|    7706|Silverado|   5.0|\n",
      "|1474480|    7706|Silverado|   3.0|\n",
      "| 415540|    7706|Silverado|   3.0|\n",
      "| 396505|    7706|Silverado|   1.0|\n",
      "|2371038|    7706|Silverado|   1.0|\n",
      "| 372730|    7706|Silverado|   3.0|\n",
      "|  32668|    7706|Silverado|   4.0|\n",
      "|2140045|    7706|Silverado|   4.0|\n",
      "| 933207|    7706|Silverado|   4.0|\n",
      "|2362542|    7706|Silverado|   4.0|\n",
      "+-------+--------+---------+------+\n",
      "only showing top 20 rows\n",
      "\n"
     ]
    }
   ],
   "source": [
    "# Add cluster column here\n",
    "ratings = df.select(['Cust_Id', 'Movie_Id', 'Name', 'Rating'])\n",
    "ratings.show()"
   ]
  },
  {
   "cell_type": "code",
   "execution_count": 39,
   "metadata": {},
   "outputs": [
    {
     "name": "stdout",
     "output_type": "stream",
     "text": [
      "+-------+------------------+-----------------+---------------+------------------+\n",
      "|summary|           Cust_Id|         Movie_Id|           Name|            Rating|\n",
      "+-------+------------------+-----------------+---------------+------------------+\n",
      "|  count|          79000155|         79000155|       79000155|          79000155|\n",
      "|   mean|1322168.4876444482|9120.794157517792|       Infinity| 3.573533608889755|\n",
      "| stddev| 764548.8841645754|5148.096802537221|            NaN|1.0637526570249234|\n",
      "|    min|                 6|                3|'Round Midnight|               1.0|\n",
      "|    max|           2649429|            17770|           Zulu|               5.0|\n",
      "+-------+------------------+-----------------+---------------+------------------+\n",
      "\n"
     ]
    }
   ],
   "source": [
    "ratings.describe().show()"
   ]
  },
  {
   "cell_type": "code",
   "execution_count": 9,
   "metadata": {},
   "outputs": [],
   "source": [
    "#Split dataset to train and test\n",
    "train_data, test_data = ratings.randomSplit([0.8, 0.2])"
   ]
  },
  {
   "cell_type": "code",
   "execution_count": 10,
   "metadata": {},
   "outputs": [],
   "source": [
    "# Build the recommendation model using ALS on the training data\n",
    "als = ALS(maxIter=10, regParam=0.1, rank=8, nonnegative=True, coldStartStrategy=\"drop\",\\\n",
    "          userCol='Cust_Id', itemCol='Movie_Id', ratingCol='Rating')\n",
    "model = als.fit(train_data)"
   ]
  },
  {
   "cell_type": "code",
   "execution_count": 19,
   "metadata": {},
   "outputs": [],
   "source": [
    "# Save Model\n",
    "model.save(\"/user/akarshsahu/data/Netflix_Data/spark_als_model\")"
   ]
  },
  {
   "cell_type": "code",
   "execution_count": 24,
   "metadata": {},
   "outputs": [
    {
     "name": "stdout",
     "output_type": "stream",
     "text": [
      "Factorized user matrix with rank = 8\n",
      "+---+--------------------+\n",
      "| id|            features|\n",
      "+---+--------------------+\n",
      "| 10|[1.1271898, 0.191...|\n",
      "|130|[1.8679975, 0.305...|\n",
      "|250|[0.7332476, 0.0, ...|\n",
      "|310|[1.2313715, 0.767...|\n",
      "|330|[1.4153334, 0.164...|\n",
      "+---+--------------------+\n",
      "only showing top 5 rows\n",
      "\n",
      "--------------------------------------------------\n",
      "Factorized item matrix with rank = 8\n",
      "+---+--------------------+\n",
      "| id|            features|\n",
      "+---+--------------------+\n",
      "| 20|[1.3715138, 0.759...|\n",
      "| 30|[1.3613921, 0.287...|\n",
      "| 50|[1.2634494, 0.448...|\n",
      "| 80|[1.3023789, 0.434...|\n",
      "| 90|[1.4615467, 0.334...|\n",
      "+---+--------------------+\n",
      "only showing top 5 rows\n",
      "\n"
     ]
    }
   ],
   "source": [
    "print('Factorized user matrix with rank = %d' % model.rank)\n",
    "model.userFactors.show(5)\n",
    "\n",
    "print('-'*50)\n",
    "\n",
    "print('Factorized item matrix with rank = %d' % model.rank)\n",
    "model.itemFactors.show(5)"
   ]
  },
  {
   "cell_type": "code",
   "execution_count": 25,
   "metadata": {},
   "outputs": [
    {
     "name": "stdout",
     "output_type": "stream",
     "text": [
      "Recommended top users (e.g. 1 top user) for all items with the corresponding predicted ratings:\n",
      "+--------+--------------------+\n",
      "|Movie_Id|     recommendations|\n",
      "+--------+--------------------+\n",
      "|    2122|[[1058808, 7.2608...|\n",
      "|    7982|[[1058808, 4.8454...|\n",
      "|    8592|[[1058808, 5.1052...|\n",
      "|    9852|[[1058808, 5.3239...|\n",
      "|   14832|[[1058808, 6.2738...|\n",
      "+--------+--------------------+\n",
      "only showing top 5 rows\n",
      "\n",
      "--------------------------------------------------\n",
      "Recommended top items (e.g. 1 top item) for all users with the corresponding predicted ratings:\n",
      "+-------+--------------------+\n",
      "|Cust_Id|     recommendations|\n",
      "+-------+--------------------+\n",
      "|    471| [[12293, 4.247688]]|\n",
      "|   1088|[[12293, 4.5709414]]|\n",
      "|   2122|[[12293, 4.8451962]]|\n",
      "|   2142|[[14103, 4.5778913]]|\n",
      "|   2659| [[12293, 4.880624]]|\n",
      "+-------+--------------------+\n",
      "only showing top 5 rows\n",
      "\n"
     ]
    }
   ],
   "source": [
    "print('Recommended top users (e.g. 1 top user) for all items with the corresponding predicted ratings:')\n",
    "model.recommendForAllItems(1).show(5)\n",
    "\n",
    "print('-'*50)\n",
    "\n",
    "print('Recommended top items (e.g. 1 top item) for all users with the corresponding predicted ratings:')\n",
    "model.recommendForAllUsers(1).show(5)"
   ]
  },
  {
   "cell_type": "code",
   "execution_count": 26,
   "metadata": {},
   "outputs": [
    {
     "name": "stdout",
     "output_type": "stream",
     "text": [
      "+--------+-------+------+---------+----+--------------+--------------+---------+--------------+---------+-------+-------------+-------------+--------+------------+---------------+------------+------------+-------+-------+-------+-------+-------+-------+------------+----------+----------+----------+----------+----------+----------------+--------------------+--------------+----------------+------------+---------+------+-------+--------+--------+-----------+----------+\n",
      "|Movie_Id|Cust_Id|Rating|   tconst|Year|          Name|  primaryTitle|titleType|runtimeMinutes|startYear|isAdult|       genres|averageRating|numVotes|     Actor_0|        Actor_1|     Actor_2|     Actor_3|Actor_4|Actor_5|Actor_6|Actor_7|Actor_8|Actor_9|  Director_0|Director_1|Director_2|Director_3|Director_4|Director_5|    genres_split|Act_Cri_Thr_Myst_Hor|Ad_Fan_Sci_Ani|Bio_War_Hist_Doc|Mus_Musi_Fam|Noir_West|Ad_Rom|Drama_n|Comedy_n|TopActor|TopDirector|prediction|\n",
      "+--------+-------+------+---------+----+--------------+--------------+---------+--------------+---------+-------+-------------+-------------+--------+------------+---------------+------------+------------+-------+-------+-------+-------+-------+-------+------------+----------+----------+----------+----------+----------+----------------+--------------------+--------------+----------------+------------+---------+------+-------+--------+--------+-----------+----------+\n",
      "|     148| 241607|   3.0|tt0230838|2001|Sweet November|Sweet November|    movie|         119.0|     2001|      0|Drama,Romance|          6.7|   82436|Keanu Reeves|Charlize Theron|Jason Isaacs|Greg Germann|   null|   null|   null|   null|   null|   null|Pat O'Connor|      null|      null|      null|      null|      null|[Drama, Romance]|                   0|             0|               0|           0|        0|     1|      1|       0|       1|          0| 2.9983563|\n",
      "|     148| 266034|   3.0|tt0230838|2001|Sweet November|Sweet November|    movie|         119.0|     2001|      0|Drama,Romance|          6.7|   82436|Keanu Reeves|Charlize Theron|Jason Isaacs|Greg Germann|   null|   null|   null|   null|   null|   null|Pat O'Connor|      null|      null|      null|      null|      null|[Drama, Romance]|                   0|             0|               0|           0|        0|     1|      1|       0|       1|          0| 3.2086296|\n",
      "|     148| 326006|   3.0|tt0230838|2001|Sweet November|Sweet November|    movie|         119.0|     2001|      0|Drama,Romance|          6.7|   82436|Keanu Reeves|Charlize Theron|Jason Isaacs|Greg Germann|   null|   null|   null|   null|   null|   null|Pat O'Connor|      null|      null|      null|      null|      null|[Drama, Romance]|                   0|             0|               0|           0|        0|     1|      1|       0|       1|          0| 3.3607743|\n",
      "|     148| 491907|   4.0|tt0230838|2001|Sweet November|Sweet November|    movie|         119.0|     2001|      0|Drama,Romance|          6.7|   82436|Keanu Reeves|Charlize Theron|Jason Isaacs|Greg Germann|   null|   null|   null|   null|   null|   null|Pat O'Connor|      null|      null|      null|      null|      null|[Drama, Romance]|                   0|             0|               0|           0|        0|     1|      1|       0|       1|          0| 3.8339963|\n",
      "|     148| 663600|   3.0|tt0230838|2001|Sweet November|Sweet November|    movie|         119.0|     2001|      0|Drama,Romance|          6.7|   82436|Keanu Reeves|Charlize Theron|Jason Isaacs|Greg Germann|   null|   null|   null|   null|   null|   null|Pat O'Connor|      null|      null|      null|      null|      null|[Drama, Romance]|                   0|             0|               0|           0|        0|     1|      1|       0|       1|          0| 2.9590917|\n",
      "|     148| 797038|   2.0|tt0230838|2001|Sweet November|Sweet November|    movie|         119.0|     2001|      0|Drama,Romance|          6.7|   82436|Keanu Reeves|Charlize Theron|Jason Isaacs|Greg Germann|   null|   null|   null|   null|   null|   null|Pat O'Connor|      null|      null|      null|      null|      null|[Drama, Romance]|                   0|             0|               0|           0|        0|     1|      1|       0|       1|          0|  3.266635|\n",
      "|     148|1015696|   5.0|tt0230838|2001|Sweet November|Sweet November|    movie|         119.0|     2001|      0|Drama,Romance|          6.7|   82436|Keanu Reeves|Charlize Theron|Jason Isaacs|Greg Germann|   null|   null|   null|   null|   null|   null|Pat O'Connor|      null|      null|      null|      null|      null|[Drama, Romance]|                   0|             0|               0|           0|        0|     1|      1|       0|       1|          0| 4.1486998|\n",
      "|     148|1052422|   4.0|tt0230838|2001|Sweet November|Sweet November|    movie|         119.0|     2001|      0|Drama,Romance|          6.7|   82436|Keanu Reeves|Charlize Theron|Jason Isaacs|Greg Germann|   null|   null|   null|   null|   null|   null|Pat O'Connor|      null|      null|      null|      null|      null|[Drama, Romance]|                   0|             0|               0|           0|        0|     1|      1|       0|       1|          0| 3.2885718|\n",
      "|     148|1221563|   2.0|tt0230838|2001|Sweet November|Sweet November|    movie|         119.0|     2001|      0|Drama,Romance|          6.7|   82436|Keanu Reeves|Charlize Theron|Jason Isaacs|Greg Germann|   null|   null|   null|   null|   null|   null|Pat O'Connor|      null|      null|      null|      null|      null|[Drama, Romance]|                   0|             0|               0|           0|        0|     1|      1|       0|       1|          0| 3.1111665|\n",
      "|     148|1399885|   3.0|tt0230838|2001|Sweet November|Sweet November|    movie|         119.0|     2001|      0|Drama,Romance|          6.7|   82436|Keanu Reeves|Charlize Theron|Jason Isaacs|Greg Germann|   null|   null|   null|   null|   null|   null|Pat O'Connor|      null|      null|      null|      null|      null|[Drama, Romance]|                   0|             0|               0|           0|        0|     1|      1|       0|       1|          0| 3.2340183|\n",
      "|     148|1512682|   2.0|tt0230838|2001|Sweet November|Sweet November|    movie|         119.0|     2001|      0|Drama,Romance|          6.7|   82436|Keanu Reeves|Charlize Theron|Jason Isaacs|Greg Germann|   null|   null|   null|   null|   null|   null|Pat O'Connor|      null|      null|      null|      null|      null|[Drama, Romance]|                   0|             0|               0|           0|        0|     1|      1|       0|       1|          0| 3.8812656|\n",
      "|     148|1820247|   1.0|tt0230838|2001|Sweet November|Sweet November|    movie|         119.0|     2001|      0|Drama,Romance|          6.7|   82436|Keanu Reeves|Charlize Theron|Jason Isaacs|Greg Germann|   null|   null|   null|   null|   null|   null|Pat O'Connor|      null|      null|      null|      null|      null|[Drama, Romance]|                   0|             0|               0|           0|        0|     1|      1|       0|       1|          0| 2.3173883|\n",
      "|     148|1998719|   2.0|tt0230838|2001|Sweet November|Sweet November|    movie|         119.0|     2001|      0|Drama,Romance|          6.7|   82436|Keanu Reeves|Charlize Theron|Jason Isaacs|Greg Germann|   null|   null|   null|   null|   null|   null|Pat O'Connor|      null|      null|      null|      null|      null|[Drama, Romance]|                   0|             0|               0|           0|        0|     1|      1|       0|       1|          0|  2.970668|\n",
      "|     148|2087711|   3.0|tt0230838|2001|Sweet November|Sweet November|    movie|         119.0|     2001|      0|Drama,Romance|          6.7|   82436|Keanu Reeves|Charlize Theron|Jason Isaacs|Greg Germann|   null|   null|   null|   null|   null|   null|Pat O'Connor|      null|      null|      null|      null|      null|[Drama, Romance]|                   0|             0|               0|           0|        0|     1|      1|       0|       1|          0| 3.6742706|\n",
      "|     148|2114400|   5.0|tt0230838|2001|Sweet November|Sweet November|    movie|         119.0|     2001|      0|Drama,Romance|          6.7|   82436|Keanu Reeves|Charlize Theron|Jason Isaacs|Greg Germann|   null|   null|   null|   null|   null|   null|Pat O'Connor|      null|      null|      null|      null|      null|[Drama, Romance]|                   0|             0|               0|           0|        0|     1|      1|       0|       1|          0| 4.5115557|\n",
      "|     148|2117153|   2.0|tt0230838|2001|Sweet November|Sweet November|    movie|         119.0|     2001|      0|Drama,Romance|          6.7|   82436|Keanu Reeves|Charlize Theron|Jason Isaacs|Greg Germann|   null|   null|   null|   null|   null|   null|Pat O'Connor|      null|      null|      null|      null|      null|[Drama, Romance]|                   0|             0|               0|           0|        0|     1|      1|       0|       1|          0|  2.464741|\n",
      "|     148|2232581|   2.0|tt0230838|2001|Sweet November|Sweet November|    movie|         119.0|     2001|      0|Drama,Romance|          6.7|   82436|Keanu Reeves|Charlize Theron|Jason Isaacs|Greg Germann|   null|   null|   null|   null|   null|   null|Pat O'Connor|      null|      null|      null|      null|      null|[Drama, Romance]|                   0|             0|               0|           0|        0|     1|      1|       0|       1|          0|  3.056162|\n",
      "|     148|2316467|   3.0|tt0230838|2001|Sweet November|Sweet November|    movie|         119.0|     2001|      0|Drama,Romance|          6.7|   82436|Keanu Reeves|Charlize Theron|Jason Isaacs|Greg Germann|   null|   null|   null|   null|   null|   null|Pat O'Connor|      null|      null|      null|      null|      null|[Drama, Romance]|                   0|             0|               0|           0|        0|     1|      1|       0|       1|          0|  3.038851|\n",
      "|     148|2320450|   3.0|tt0230838|2001|Sweet November|Sweet November|    movie|         119.0|     2001|      0|Drama,Romance|          6.7|   82436|Keanu Reeves|Charlize Theron|Jason Isaacs|Greg Germann|   null|   null|   null|   null|   null|   null|Pat O'Connor|      null|      null|      null|      null|      null|[Drama, Romance]|                   0|             0|               0|           0|        0|     1|      1|       0|       1|          0| 3.4989347|\n",
      "|     148|2511049|   3.0|tt0230838|2001|Sweet November|Sweet November|    movie|         119.0|     2001|      0|Drama,Romance|          6.7|   82436|Keanu Reeves|Charlize Theron|Jason Isaacs|Greg Germann|   null|   null|   null|   null|   null|   null|Pat O'Connor|      null|      null|      null|      null|      null|[Drama, Romance]|                   0|             0|               0|           0|        0|     1|      1|       0|       1|          0|  2.737878|\n",
      "+--------+-------+------+---------+----+--------------+--------------+---------+--------------+---------+-------+-------------+-------------+--------+------------+---------------+------------+------------+-------+-------+-------+-------+-------+-------+------------+----------+----------+----------+----------+----------+----------------+--------------------+--------------+----------------+------------+---------+------+-------+--------+--------+-----------+----------+\n",
      "only showing top 20 rows\n",
      "\n"
     ]
    }
   ],
   "source": [
    "# Make Predictions\n",
    "#Let see how the model perform\n",
    "predictions = model.transform(test_data)\n",
    "predictions.show()"
   ]
  },
  {
   "cell_type": "code",
   "execution_count": 28,
   "metadata": {},
   "outputs": [
    {
     "name": "stdout",
     "output_type": "stream",
     "text": [
      "Root mean squared error of the test_data: 0.8654\n"
     ]
    }
   ],
   "source": [
    "# Model Evaluation\n",
    "\n",
    "# check the root mean squared error\n",
    "evaluator = RegressionEvaluator(metricName='rmse', predictionCol='prediction', labelCol='Rating')\n",
    "rmse = evaluator.evaluate(predictions)\n",
    "print('Root mean squared error of the test_data: %.4f' % rmse)"
   ]
  },
  {
   "cell_type": "code",
   "execution_count": 34,
   "metadata": {},
   "outputs": [
    {
     "name": "stdout",
     "output_type": "stream",
     "text": [
      "+-------+--------+--------------------+------+\n",
      "|Cust_Id|Movie_Id|                Name|Rating|\n",
      "+-------+--------+--------------------+------+\n",
      "| 770129|     571|     American Beauty|   5.0|\n",
      "| 770129|    4640|            Rain Man|   5.0|\n",
      "| 770129|    7706|           Silverado|   4.0|\n",
      "| 770129|    8840|      A Time to Kill|   5.0|\n",
      "| 770129|    8904|   Good Will Hunting|   5.0|\n",
      "| 770129|    9121|              Apache|   5.0|\n",
      "| 770129|    9702|              Tarzan|   4.0|\n",
      "| 770129|    9788|                Antz|   5.0|\n",
      "| 770129|   12309|         The Postman|   5.0|\n",
      "| 770129|   12546|          Home Alone|   3.0|\n",
      "| 770129|   13082|           Chinatown|   5.0|\n",
      "| 770129|   14815|       Hang 'Em High|   4.0|\n",
      "| 770129|   14909|      City of Angels|   5.0|\n",
      "| 770129|   16552|           GoldenEye|   5.0|\n",
      "| 770129|   16668|      A Few Good Men|   5.0|\n",
      "| 770129|    2456|A Fistful of Dollars|   4.0|\n",
      "| 770129|    4100|            Dinosaur|   4.0|\n",
      "| 770129|    4123|         Patch Adams|   4.0|\n",
      "| 770129|    4227|      The Full Monty|   3.0|\n",
      "| 770129|    6287|        Pretty Woman|   5.0|\n",
      "+-------+--------+--------------------+------+\n",
      "only showing top 20 rows\n",
      "\n"
     ]
    }
   ],
   "source": [
    "# see historical rating of the user\n",
    "user_history = train_data.filter(train_data['Cust_Id']==770129).select(['Cust_Id', 'Movie_Id', 'Name', 'Rating'])\n",
    "user_history.show()"
   ]
  },
  {
   "cell_type": "code",
   "execution_count": 35,
   "metadata": {},
   "outputs": [
    {
     "name": "stdout",
     "output_type": "stream",
     "text": [
      "+--------+--------------------+-------+\n",
      "|Movie_Id|                Name|Cust_Id|\n",
      "+--------+--------------------+-------+\n",
      "|    3684|          Goldfinger| 770129|\n",
      "|    6692|          Entrapment| 770129|\n",
      "|   10886|          Waterworld| 770129|\n",
      "|   16879|             Titanic| 770129|\n",
      "|    6972|          Armageddon| 770129|\n",
      "|    8357|The Bridges of Ma...| 770129|\n",
      "|   14358|Monty Python and ...| 770129|\n",
      "|   15922|        The Graduate| 770129|\n",
      "+--------+--------------------+-------+\n",
      "\n"
     ]
    }
   ],
   "source": [
    "# a list of movies we are thinking to offer\n",
    "user_suggest = test_data.filter(train_data['Cust_Id']==770129).select(['Movie_Id','Name', 'Cust_Id'])\n",
    "user_suggest.show()"
   ]
  },
  {
   "cell_type": "code",
   "execution_count": 36,
   "metadata": {},
   "outputs": [
    {
     "name": "stdout",
     "output_type": "stream",
     "text": [
      "+--------+--------------------+-------+----------+\n",
      "|Movie_Id|                Name|Cust_Id|prediction|\n",
      "+--------+--------------------+-------+----------+\n",
      "|   16879|             Titanic| 770129| 4.3558435|\n",
      "|   14358|Monty Python and ...| 770129| 4.3242383|\n",
      "|    3684|          Goldfinger| 770129|  4.267573|\n",
      "|    6972|          Armageddon| 770129|  4.124872|\n",
      "|   15922|        The Graduate| 770129|  4.101463|\n",
      "|    8357|The Bridges of Ma...| 770129| 3.9335575|\n",
      "|    6692|          Entrapment| 770129| 3.9262018|\n",
      "|   10886|          Waterworld| 770129| 3.2920074|\n",
      "+--------+--------------------+-------+----------+\n",
      "\n"
     ]
    }
   ],
   "source": [
    "# offer movies with a high predicted rating\n",
    "user_offer = model.transform(user_suggest)\n",
    "user_offer.orderBy('prediction', ascending=False).show()"
   ]
  },
  {
   "cell_type": "code",
   "execution_count": 37,
   "metadata": {},
   "outputs": [
    {
     "ename": "KeyboardInterrupt",
     "evalue": "",
     "output_type": "error",
     "traceback": [
      "\u001b[0;31m---------------------------------------------------------------------------\u001b[0m",
      "\u001b[0;31mKeyboardInterrupt\u001b[0m                         Traceback (most recent call last)",
      "\u001b[0;32m<ipython-input-37-e4dba0e2482a>\u001b[0m in \u001b[0;36m<module>\u001b[0;34m()\u001b[0m\n\u001b[1;32m      3\u001b[0m \u001b[0;31m# Generate top 5 movie recommendations for each user\u001b[0m\u001b[0;34m\u001b[0m\u001b[0;34m\u001b[0m\u001b[0;34m\u001b[0m\u001b[0m\n\u001b[1;32m      4\u001b[0m \u001b[0muserRecs\u001b[0m \u001b[0;34m=\u001b[0m \u001b[0mmodel\u001b[0m\u001b[0;34m.\u001b[0m\u001b[0mrecommendForAllUsers\u001b[0m\u001b[0;34m(\u001b[0m\u001b[0;36m5\u001b[0m\u001b[0;34m)\u001b[0m\u001b[0;34m\u001b[0m\u001b[0;34m\u001b[0m\u001b[0m\n\u001b[0;32m----> 5\u001b[0;31m \u001b[0muserRecs\u001b[0m\u001b[0;34m.\u001b[0m\u001b[0mshow\u001b[0m\u001b[0;34m(\u001b[0m\u001b[0;36m10\u001b[0m\u001b[0;34m)\u001b[0m\u001b[0;34m\u001b[0m\u001b[0;34m\u001b[0m\u001b[0m\n\u001b[0m",
      "\u001b[0;32m/opt/cloudera/parcels/CDH/lib/spark/python/lib/pyspark.zip/pyspark/sql/dataframe.py\u001b[0m in \u001b[0;36mshow\u001b[0;34m(self, n, truncate, vertical)\u001b[0m\n\u001b[1;32m    376\u001b[0m         \"\"\"\n\u001b[1;32m    377\u001b[0m         \u001b[0;32mif\u001b[0m \u001b[0misinstance\u001b[0m\u001b[0;34m(\u001b[0m\u001b[0mtruncate\u001b[0m\u001b[0;34m,\u001b[0m \u001b[0mbool\u001b[0m\u001b[0;34m)\u001b[0m \u001b[0;32mand\u001b[0m \u001b[0mtruncate\u001b[0m\u001b[0;34m:\u001b[0m\u001b[0;34m\u001b[0m\u001b[0;34m\u001b[0m\u001b[0m\n\u001b[0;32m--> 378\u001b[0;31m             \u001b[0mprint\u001b[0m\u001b[0;34m(\u001b[0m\u001b[0mself\u001b[0m\u001b[0;34m.\u001b[0m\u001b[0m_jdf\u001b[0m\u001b[0;34m.\u001b[0m\u001b[0mshowString\u001b[0m\u001b[0;34m(\u001b[0m\u001b[0mn\u001b[0m\u001b[0;34m,\u001b[0m \u001b[0;36m20\u001b[0m\u001b[0;34m,\u001b[0m \u001b[0mvertical\u001b[0m\u001b[0;34m)\u001b[0m\u001b[0;34m)\u001b[0m\u001b[0;34m\u001b[0m\u001b[0;34m\u001b[0m\u001b[0m\n\u001b[0m\u001b[1;32m    379\u001b[0m         \u001b[0;32melse\u001b[0m\u001b[0;34m:\u001b[0m\u001b[0;34m\u001b[0m\u001b[0;34m\u001b[0m\u001b[0m\n\u001b[1;32m    380\u001b[0m             \u001b[0mprint\u001b[0m\u001b[0;34m(\u001b[0m\u001b[0mself\u001b[0m\u001b[0;34m.\u001b[0m\u001b[0m_jdf\u001b[0m\u001b[0;34m.\u001b[0m\u001b[0mshowString\u001b[0m\u001b[0;34m(\u001b[0m\u001b[0mn\u001b[0m\u001b[0;34m,\u001b[0m \u001b[0mint\u001b[0m\u001b[0;34m(\u001b[0m\u001b[0mtruncate\u001b[0m\u001b[0;34m)\u001b[0m\u001b[0;34m,\u001b[0m \u001b[0mvertical\u001b[0m\u001b[0;34m)\u001b[0m\u001b[0;34m)\u001b[0m\u001b[0;34m\u001b[0m\u001b[0;34m\u001b[0m\u001b[0m\n",
      "\u001b[0;32m/opt/cloudera/parcels/CDH/lib/spark/python/lib/py4j-0.10.7-src.zip/py4j/java_gateway.py\u001b[0m in \u001b[0;36m__call__\u001b[0;34m(self, *args)\u001b[0m\n\u001b[1;32m   1253\u001b[0m             \u001b[0mproto\u001b[0m\u001b[0;34m.\u001b[0m\u001b[0mEND_COMMAND_PART\u001b[0m\u001b[0;34m\u001b[0m\u001b[0;34m\u001b[0m\u001b[0m\n\u001b[1;32m   1254\u001b[0m \u001b[0;34m\u001b[0m\u001b[0m\n\u001b[0;32m-> 1255\u001b[0;31m         \u001b[0manswer\u001b[0m \u001b[0;34m=\u001b[0m \u001b[0mself\u001b[0m\u001b[0;34m.\u001b[0m\u001b[0mgateway_client\u001b[0m\u001b[0;34m.\u001b[0m\u001b[0msend_command\u001b[0m\u001b[0;34m(\u001b[0m\u001b[0mcommand\u001b[0m\u001b[0;34m)\u001b[0m\u001b[0;34m\u001b[0m\u001b[0;34m\u001b[0m\u001b[0m\n\u001b[0m\u001b[1;32m   1256\u001b[0m         return_value = get_return_value(\n\u001b[1;32m   1257\u001b[0m             answer, self.gateway_client, self.target_id, self.name)\n",
      "\u001b[0;32m/opt/cloudera/parcels/CDH/lib/spark/python/lib/py4j-0.10.7-src.zip/py4j/java_gateway.py\u001b[0m in \u001b[0;36msend_command\u001b[0;34m(self, command, retry, binary)\u001b[0m\n\u001b[1;32m    983\u001b[0m         \u001b[0mconnection\u001b[0m \u001b[0;34m=\u001b[0m \u001b[0mself\u001b[0m\u001b[0;34m.\u001b[0m\u001b[0m_get_connection\u001b[0m\u001b[0;34m(\u001b[0m\u001b[0;34m)\u001b[0m\u001b[0;34m\u001b[0m\u001b[0;34m\u001b[0m\u001b[0m\n\u001b[1;32m    984\u001b[0m         \u001b[0;32mtry\u001b[0m\u001b[0;34m:\u001b[0m\u001b[0;34m\u001b[0m\u001b[0;34m\u001b[0m\u001b[0m\n\u001b[0;32m--> 985\u001b[0;31m             \u001b[0mresponse\u001b[0m \u001b[0;34m=\u001b[0m \u001b[0mconnection\u001b[0m\u001b[0;34m.\u001b[0m\u001b[0msend_command\u001b[0m\u001b[0;34m(\u001b[0m\u001b[0mcommand\u001b[0m\u001b[0;34m)\u001b[0m\u001b[0;34m\u001b[0m\u001b[0;34m\u001b[0m\u001b[0m\n\u001b[0m\u001b[1;32m    986\u001b[0m             \u001b[0;32mif\u001b[0m \u001b[0mbinary\u001b[0m\u001b[0;34m:\u001b[0m\u001b[0;34m\u001b[0m\u001b[0;34m\u001b[0m\u001b[0m\n\u001b[1;32m    987\u001b[0m                 \u001b[0;32mreturn\u001b[0m \u001b[0mresponse\u001b[0m\u001b[0;34m,\u001b[0m \u001b[0mself\u001b[0m\u001b[0;34m.\u001b[0m\u001b[0m_create_connection_guard\u001b[0m\u001b[0;34m(\u001b[0m\u001b[0mconnection\u001b[0m\u001b[0;34m)\u001b[0m\u001b[0;34m\u001b[0m\u001b[0;34m\u001b[0m\u001b[0m\n",
      "\u001b[0;32m/opt/cloudera/parcels/CDH/lib/spark/python/lib/py4j-0.10.7-src.zip/py4j/java_gateway.py\u001b[0m in \u001b[0;36msend_command\u001b[0;34m(self, command)\u001b[0m\n\u001b[1;32m   1150\u001b[0m \u001b[0;34m\u001b[0m\u001b[0m\n\u001b[1;32m   1151\u001b[0m         \u001b[0;32mtry\u001b[0m\u001b[0;34m:\u001b[0m\u001b[0;34m\u001b[0m\u001b[0;34m\u001b[0m\u001b[0m\n\u001b[0;32m-> 1152\u001b[0;31m             \u001b[0manswer\u001b[0m \u001b[0;34m=\u001b[0m \u001b[0msmart_decode\u001b[0m\u001b[0;34m(\u001b[0m\u001b[0mself\u001b[0m\u001b[0;34m.\u001b[0m\u001b[0mstream\u001b[0m\u001b[0;34m.\u001b[0m\u001b[0mreadline\u001b[0m\u001b[0;34m(\u001b[0m\u001b[0;34m)\u001b[0m\u001b[0;34m[\u001b[0m\u001b[0;34m:\u001b[0m\u001b[0;34m-\u001b[0m\u001b[0;36m1\u001b[0m\u001b[0;34m]\u001b[0m\u001b[0;34m)\u001b[0m\u001b[0;34m\u001b[0m\u001b[0;34m\u001b[0m\u001b[0m\n\u001b[0m\u001b[1;32m   1153\u001b[0m             \u001b[0mlogger\u001b[0m\u001b[0;34m.\u001b[0m\u001b[0mdebug\u001b[0m\u001b[0;34m(\u001b[0m\u001b[0;34m\"Answer received: {0}\"\u001b[0m\u001b[0;34m.\u001b[0m\u001b[0mformat\u001b[0m\u001b[0;34m(\u001b[0m\u001b[0manswer\u001b[0m\u001b[0;34m)\u001b[0m\u001b[0;34m)\u001b[0m\u001b[0;34m\u001b[0m\u001b[0;34m\u001b[0m\u001b[0m\n\u001b[1;32m   1154\u001b[0m             \u001b[0;32mif\u001b[0m \u001b[0manswer\u001b[0m\u001b[0;34m.\u001b[0m\u001b[0mstartswith\u001b[0m\u001b[0;34m(\u001b[0m\u001b[0mproto\u001b[0m\u001b[0;34m.\u001b[0m\u001b[0mRETURN_MESSAGE\u001b[0m\u001b[0;34m)\u001b[0m\u001b[0;34m:\u001b[0m\u001b[0;34m\u001b[0m\u001b[0;34m\u001b[0m\u001b[0m\n",
      "\u001b[0;32m/software/Anaconda3-5.1.0-hadoop/lib/python3.6/socket.py\u001b[0m in \u001b[0;36mreadinto\u001b[0;34m(self, b)\u001b[0m\n\u001b[1;32m    584\u001b[0m         \u001b[0;32mwhile\u001b[0m \u001b[0;32mTrue\u001b[0m\u001b[0;34m:\u001b[0m\u001b[0;34m\u001b[0m\u001b[0;34m\u001b[0m\u001b[0m\n\u001b[1;32m    585\u001b[0m             \u001b[0;32mtry\u001b[0m\u001b[0;34m:\u001b[0m\u001b[0;34m\u001b[0m\u001b[0;34m\u001b[0m\u001b[0m\n\u001b[0;32m--> 586\u001b[0;31m                 \u001b[0;32mreturn\u001b[0m \u001b[0mself\u001b[0m\u001b[0;34m.\u001b[0m\u001b[0m_sock\u001b[0m\u001b[0;34m.\u001b[0m\u001b[0mrecv_into\u001b[0m\u001b[0;34m(\u001b[0m\u001b[0mb\u001b[0m\u001b[0;34m)\u001b[0m\u001b[0;34m\u001b[0m\u001b[0;34m\u001b[0m\u001b[0m\n\u001b[0m\u001b[1;32m    587\u001b[0m             \u001b[0;32mexcept\u001b[0m \u001b[0mtimeout\u001b[0m\u001b[0;34m:\u001b[0m\u001b[0;34m\u001b[0m\u001b[0;34m\u001b[0m\u001b[0m\n\u001b[1;32m    588\u001b[0m                 \u001b[0mself\u001b[0m\u001b[0;34m.\u001b[0m\u001b[0m_timeout_occurred\u001b[0m \u001b[0;34m=\u001b[0m \u001b[0;32mTrue\u001b[0m\u001b[0;34m\u001b[0m\u001b[0;34m\u001b[0m\u001b[0m\n",
      "\u001b[0;31mKeyboardInterrupt\u001b[0m: "
     ]
    }
   ],
   "source": [
    "## RECOMMENDATIONS FOR ALL USERS - TOP 5\n",
    "\n",
    "# Generate top 5 movie recommendations for each user\n",
    "userRecs = model.recommendForAllUsers(5)\n",
    "userRecs.show(10)"
   ]
  },
  {
   "cell_type": "code",
   "execution_count": null,
   "metadata": {},
   "outputs": [],
   "source": []
  },
  {
   "cell_type": "code",
   "execution_count": null,
   "metadata": {},
   "outputs": [],
   "source": []
  },
  {
   "cell_type": "code",
   "execution_count": null,
   "metadata": {},
   "outputs": [],
   "source": []
  }
 ],
 "metadata": {
  "kernelspec": {
   "display_name": "pySpark 4G 16e",
   "language": "python",
   "name": "pyspark2_4g16e"
  },
  "language_info": {
   "codemirror_mode": {
    "name": "ipython",
    "version": 3
   },
   "file_extension": ".py",
   "mimetype": "text/x-python",
   "name": "python",
   "nbconvert_exporter": "python",
   "pygments_lexer": "ipython3",
   "version": "3.6.8"
  }
 },
 "nbformat": 4,
 "nbformat_minor": 2
}
