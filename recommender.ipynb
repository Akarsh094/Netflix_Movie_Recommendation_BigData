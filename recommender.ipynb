{
 "cells": [
  {
   "cell_type": "code",
   "execution_count": 1,
   "metadata": {},
   "outputs": [],
   "source": [
    "from pyspark.sql import SparkSession, functions"
   ]
  },
  {
   "cell_type": "code",
   "execution_count": 2,
   "metadata": {},
   "outputs": [],
   "source": [
    "spark = SparkSession.builder.enableHiveSupport().appName('Recommendation_System').getOrCreate()\n",
    "sc = spark.sparkContext"
   ]
  },
  {
   "cell_type": "code",
   "execution_count": 3,
   "metadata": {},
   "outputs": [],
   "source": [
    "data = spark.read.csv('/user/akarshsahu/data/Netflix_Data/processed_data_final.csv', header=True)"
   ]
  },
  {
   "cell_type": "code",
   "execution_count": 4,
   "metadata": {
    "scrolled": true
   },
   "outputs": [
    {
     "name": "stdout",
     "output_type": "stream",
     "text": [
      "+---+-------+---+---------+-------+----------+----------+-----+---+-------+---+-------------------+---+-------+-----------+------------------------+--------------+---------------+----+----+----+----+----+----+-------------+----+----+----+----+----+\n",
      "|  3|1025579|4.0|tt0119448|1997.04|Character5|Character6|movie|122|1997.09|  0|Crime,Drama,Mystery|7.7|10128.0|Jan Decleir|Pavlik Jansen op de Haar|Fedja van Huêt|Betty Schuurman|_c18|_c19|_c20|_c21|_c22|_c23|Mike van Diem|_c25|_c26|_c27|_c28|_c29|\n",
      "+---+-------+---+---------+-------+----------+----------+-----+---+-------+---+-------------------+---+-------+-----------+------------------------+--------------+---------------+----+----+----+----+----+----+-------------+----+----+----+----+----+\n",
      "|  3| 712664|5.0|tt0119448| 1997.0| Character| Character|movie|122| 1997.0|  0|Crime,Drama,Mystery|7.7|10128.0|Jan Decleir|    Pavlik Jansen op ...|Fedja van Huêt|Betty Schuurman|null|null|null|null|null|null|Mike van Diem|null|null|null|null|null|\n",
      "|  3|1331154|4.0|tt0119448| 1997.0| Character| Character|movie|122| 1997.0|  0|Crime,Drama,Mystery|7.7|10128.0|Jan Decleir|    Pavlik Jansen op ...|Fedja van Huêt|Betty Schuurman|null|null|null|null|null|null|Mike van Diem|null|null|null|null|null|\n",
      "|  3|2632461|3.0|tt0119448| 1997.0| Character| Character|movie|122| 1997.0|  0|Crime,Drama,Mystery|7.7|10128.0|Jan Decleir|    Pavlik Jansen op ...|Fedja van Huêt|Betty Schuurman|null|null|null|null|null|null|Mike van Diem|null|null|null|null|null|\n",
      "|  3|  44937|5.0|tt0119448| 1997.0| Character| Character|movie|122| 1997.0|  0|Crime,Drama,Mystery|7.7|10128.0|Jan Decleir|    Pavlik Jansen op ...|Fedja van Huêt|Betty Schuurman|null|null|null|null|null|null|Mike van Diem|null|null|null|null|null|\n",
      "|  3| 656399|4.0|tt0119448| 1997.0| Character| Character|movie|122| 1997.0|  0|Crime,Drama,Mystery|7.7|10128.0|Jan Decleir|    Pavlik Jansen op ...|Fedja van Huêt|Betty Schuurman|null|null|null|null|null|null|Mike van Diem|null|null|null|null|null|\n",
      "+---+-------+---+---------+-------+----------+----------+-----+---+-------+---+-------------------+---+-------+-----------+------------------------+--------------+---------------+----+----+----+----+----+----+-------------+----+----+----+----+----+\n",
      "only showing top 5 rows\n",
      "\n"
     ]
    }
   ],
   "source": [
    "data.show(5)"
   ]
  },
  {
   "cell_type": "markdown",
   "metadata": {},
   "source": [
    "### Creating ALS model"
   ]
  },
  {
   "cell_type": "code",
   "execution_count": 11,
   "metadata": {},
   "outputs": [],
   "source": [
    "from pyspark.ml.evaluation import RegressionEvaluator\n",
    "from pyspark.ml.recommendation import ALS"
   ]
  },
  {
   "cell_type": "code",
   "execution_count": 13,
   "metadata": {},
   "outputs": [
    {
     "name": "stdout",
     "output_type": "stream",
     "text": [
      "+-------+---+---------+\n",
      "|    _c1|_c2|      _c3|\n",
      "+-------+---+---------+\n",
      "|1025579|4.0|tt0119448|\n",
      "| 712664|5.0|tt0119448|\n",
      "|1331154|4.0|tt0119448|\n",
      "|2632461|3.0|tt0119448|\n",
      "|  44937|5.0|tt0119448|\n",
      "| 656399|4.0|tt0119448|\n",
      "| 439011|1.0|tt0119448|\n",
      "|1436762|3.0|tt0119448|\n",
      "|1644750|3.0|tt0119448|\n",
      "|2031561|4.0|tt0119448|\n",
      "| 616720|4.0|tt0119448|\n",
      "|2467008|4.0|tt0119448|\n",
      "| 975874|5.0|tt0119448|\n",
      "| 701730|2.0|tt0119448|\n",
      "|1614320|4.0|tt0119448|\n",
      "| 115498|3.0|tt0119448|\n",
      "| 931626|2.0|tt0119448|\n",
      "| 699878|4.0|tt0119448|\n",
      "|1694958|3.0|tt0119448|\n",
      "|  66414|5.0|tt0119448|\n",
      "+-------+---+---------+\n",
      "only showing top 20 rows\n",
      "\n"
     ]
    }
   ],
   "source": [
    "nd=data.select(data['_c1'],data['_c2'],data['_c3'])\n",
    "nd.show()"
   ]
  },
  {
   "cell_type": "code",
   "execution_count": 17,
   "metadata": {
    "scrolled": true
   },
   "outputs": [
    {
     "name": "stdout",
     "output_type": "stream",
     "text": [
      "+-------+---+---------+---------+---------+\n",
      "|    _c1|_c2|      _c3|_c3_index|_c1_index|\n",
      "+-------+---+---------+---------+---------+\n",
      "|1025579|4.0|tt0119448|   3529.0| 234003.0|\n",
      "| 712664|5.0|tt0119448|   3529.0|   1927.0|\n",
      "|1331154|4.0|tt0119448|   3529.0|  11994.0|\n",
      "|2632461|3.0|tt0119448|   3529.0| 125373.0|\n",
      "|  44937|5.0|tt0119448|   3529.0| 138656.0|\n",
      "| 656399|4.0|tt0119448|   3529.0| 103925.0|\n",
      "| 439011|1.0|tt0119448|   3529.0|  43941.0|\n",
      "|1436762|3.0|tt0119448|   3529.0| 159265.0|\n",
      "|1644750|3.0|tt0119448|   3529.0|   9420.0|\n",
      "|2031561|4.0|tt0119448|   3529.0|  30787.0|\n",
      "| 616720|4.0|tt0119448|   3529.0|  90446.0|\n",
      "|2467008|4.0|tt0119448|   3529.0|  38565.0|\n",
      "| 975874|5.0|tt0119448|   3529.0| 284124.0|\n",
      "| 701730|2.0|tt0119448|   3529.0|  18448.0|\n",
      "|1614320|4.0|tt0119448|   3529.0|  24964.0|\n",
      "| 115498|3.0|tt0119448|   3529.0|  60588.0|\n",
      "| 931626|2.0|tt0119448|   3529.0|  13520.0|\n",
      "| 699878|4.0|tt0119448|   3529.0|  75755.0|\n",
      "|1694958|3.0|tt0119448|   3529.0|  69137.0|\n",
      "|  66414|5.0|tt0119448|   3529.0| 137005.0|\n",
      "+-------+---+---------+---------+---------+\n",
      "only showing top 20 rows\n",
      "\n"
     ]
    }
   ],
   "source": [
    "from pyspark.ml.feature import StringIndexer\n",
    "from pyspark.ml import Pipeline\n",
    "from pyspark.sql.functions import col\n",
    "\n",
    "indexer = [StringIndexer(inputCol=column, outputCol=column+\"_index\") for column in list(set(nd.columns)-set(['_c2'])) ]\n",
    "pipeline = Pipeline(stages=indexer)\n",
    "transformed = pipeline.fit(nd).transform(nd)\n",
    "transformed.show()"
   ]
  },
  {
   "cell_type": "code",
   "execution_count": 18,
   "metadata": {},
   "outputs": [],
   "source": [
    "transformed = transformed.withColumn('_c2', transformed['_c2'].cast('int'))"
   ]
  },
  {
   "cell_type": "markdown",
   "metadata": {},
   "source": [
    "Train and test data"
   ]
  },
  {
   "cell_type": "code",
   "execution_count": 19,
   "metadata": {},
   "outputs": [],
   "source": [
    "(training,test)=transformed.randomSplit([0.8, 0.2])"
   ]
  },
  {
   "cell_type": "markdown",
   "metadata": {},
   "source": [
    "ALS model"
   ]
  },
  {
   "cell_type": "code",
   "execution_count": 20,
   "metadata": {},
   "outputs": [],
   "source": [
    "als=ALS(maxIter=5,regParam=0.09,rank=25,userCol=\"_c3_index\",itemCol=\"_c1_index\",ratingCol=\"_c2\",coldStartStrategy=\"drop\",nonnegative=True)\n",
    "model=als.fit(training)"
   ]
  },
  {
   "cell_type": "markdown",
   "metadata": {},
   "source": [
    "### Generat predictions and evaluate RMSE"
   ]
  },
  {
   "cell_type": "code",
   "execution_count": 21,
   "metadata": {},
   "outputs": [
    {
     "name": "stdout",
     "output_type": "stream",
     "text": [
      "RMSE=0.8658419359735077\n",
      "+-------+---+---------+---------+---------+----------+\n",
      "|    _c1|_c2|      _c3|_c3_index|_c1_index|prediction|\n",
      "+-------+---+---------+---------+---------+----------+\n",
      "|1272379|  1|tt0050212|    564.0|    148.0|  1.771366|\n",
      "|1272379|  3|tt0113326|   1641.0|    148.0|    1.6803|\n",
      "|1272379|  4|tt0165929|   1130.0|    148.0| 1.8520545|\n",
      "|1272379|  1|tt0116242|   1934.0|    148.0| 1.1835804|\n",
      "|1272379|  1|tt0133059|   6579.0|    148.0| 1.2428589|\n",
      "|1272379|  1|tt0120670|   3672.0|    148.0| 1.5757805|\n",
      "|1272379|  1|tt0099260|   6073.0|    148.0| 1.0831131|\n",
      "|1272379|  1|tt0069994|   6814.0|    148.0|0.87752444|\n",
      "|1272379|  2|tt0230030|   1320.0|    148.0| 1.7446809|\n",
      "|1272379|  2|tt0077928|   1342.0|    148.0| 1.7112339|\n",
      "|1272379|  1|tt0031971|   2122.0|    148.0|  1.472496|\n",
      "|1272379|  2|tt0112819|   2142.0|    148.0| 1.5807616|\n",
      "|1272379|  1|tt0100196|   3749.0|    148.0| 1.4964224|\n",
      "|1272379|  1|tt0104627|   4900.0|    148.0| 1.6303498|\n",
      "|1272379|  4|tt0091042|     67.0|    148.0| 2.0786579|\n",
      "|1272379|  4|tt0120623|    275.0|    148.0| 2.1335523|\n",
      "|1272379|  3|tt0284837|   3196.0|    148.0| 1.2834574|\n",
      "|1272379|  1|tt0079227|   3542.0|    148.0| 1.2565387|\n",
      "|1272379|  1|tt0110305|   3782.0|    148.0| 1.6932862|\n",
      "|1272379|  1|tt0109493|   1782.0|    148.0| 1.7745142|\n",
      "+-------+---+---------+---------+---------+----------+\n",
      "only showing top 20 rows\n",
      "\n"
     ]
    }
   ],
   "source": [
    "evaluator=RegressionEvaluator(metricName=\"rmse\",labelCol=\"_c2\",predictionCol=\"prediction\")\n",
    "predictions=model.transform(test)\n",
    "rmse=evaluator.evaluate(predictions)\n",
    "print(\"RMSE=\"+str(rmse))\n",
    "predictions.show()"
   ]
  },
  {
   "cell_type": "markdown",
   "metadata": {},
   "source": [
    "### Providing Recommendations"
   ]
  },
  {
   "cell_type": "code",
   "execution_count": 22,
   "metadata": {},
   "outputs": [
    {
     "name": "stdout",
     "output_type": "stream",
     "text": [
      "+---------+--------------------+\n",
      "|_c3_index|     recommendations|\n",
      "+---------+--------------------+\n",
      "|      471|[[462874, 6.39594...|\n",
      "|     1591|[[471204, 6.22308...|\n",
      "|     4101|[[475043, 6.07330...|\n",
      "|     1645|[[462874, 6.04655...|\n",
      "|     3175|[[475043, 5.85560...|\n",
      "|     4935|[[477570, 4.57740...|\n",
      "|      496|[[466645, 5.70809...|\n",
      "|     2366|[[471204, 6.12524...|\n",
      "|     2866|[[465951, 5.31449...|\n",
      "|     5156|[[460741, 5.52778...|\n",
      "+---------+--------------------+\n",
      "only showing top 10 rows\n",
      "\n"
     ]
    }
   ],
   "source": [
    "user_recs=model.recommendForAllUsers(20).show(10)"
   ]
  },
  {
   "cell_type": "code",
   "execution_count": null,
   "metadata": {},
   "outputs": [],
   "source": []
  }
 ],
 "metadata": {
  "kernelspec": {
   "display_name": "pySpark 4G 16e",
   "language": "python",
   "name": "pyspark2_4g16e"
  },
  "language_info": {
   "codemirror_mode": {
    "name": "ipython",
    "version": 3
   },
   "file_extension": ".py",
   "mimetype": "text/x-python",
   "name": "python",
   "nbconvert_exporter": "python",
   "pygments_lexer": "ipython3",
   "version": "3.6.8"
  }
 },
 "nbformat": 4,
 "nbformat_minor": 2
}
