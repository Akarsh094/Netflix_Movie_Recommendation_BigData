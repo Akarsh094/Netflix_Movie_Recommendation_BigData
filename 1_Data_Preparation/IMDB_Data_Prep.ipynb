{
 "cells": [
  {
   "cell_type": "code",
   "execution_count": 35,
   "metadata": {},
   "outputs": [],
   "source": [
    "import pandas as pd\n",
    "import numpy as np\n",
    "import os"
   ]
  },
  {
   "cell_type": "code",
   "execution_count": 36,
   "metadata": {},
   "outputs": [
    {
     "data": {
      "text/plain": [
       "'/home/akarshsahu/bigdata/Final_Project'"
      ]
     },
     "execution_count": 36,
     "metadata": {},
     "output_type": "execute_result"
    }
   ],
   "source": [
    "os.getcwd()"
   ]
  },
  {
   "cell_type": "code",
   "execution_count": null,
   "metadata": {},
   "outputs": [],
   "source": [
    "## Title Basic Information"
   ]
  },
  {
   "cell_type": "code",
   "execution_count": 37,
   "metadata": {},
   "outputs": [
    {
     "name": "stderr",
     "output_type": "stream",
     "text": [
      "/software/Anaconda3-5.1.0-hadoop/lib/python3.6/site-packages/IPython/core/interactiveshell.py:2728: DtypeWarning: Columns (5) have mixed types. Specify dtype option on import or set low_memory=False.\n",
      "  interactivity=interactivity, compiler=compiler, result=result)\n"
     ]
    }
   ],
   "source": [
    "imdb_df = pd.read_csv(\"./IMDB_Data/title_basics.tsv\", sep=\"\\t\")\n",
    "title = pd.read_csv(\"./Netflix_Data/movie_titles.csv\", encoding = \"ISO-8859-1\", header = None, names = ['Movie_Id', 'Year', 'Name'])"
   ]
  },
  {
   "cell_type": "code",
   "execution_count": 39,
   "metadata": {},
   "outputs": [],
   "source": [
    "imdb_df.startYear = pd.to_numeric(imdb_df.startYear, errors = 'coerce')\n",
    "imdb_df = imdb_df[imdb_df.titleType == 'movie']"
   ]
  },
  {
   "cell_type": "code",
   "execution_count": 40,
   "metadata": {
    "scrolled": true
   },
   "outputs": [
    {
     "data": {
      "text/plain": [
       "array(['movie'], dtype=object)"
      ]
     },
     "execution_count": 40,
     "metadata": {},
     "output_type": "execute_result"
    }
   ],
   "source": [
    "imdb_df.titleType.unique()"
   ]
  },
  {
   "cell_type": "code",
   "execution_count": 41,
   "metadata": {},
   "outputs": [
    {
     "data": {
      "text/plain": [
       "17770"
      ]
     },
     "execution_count": 41,
     "metadata": {},
     "output_type": "execute_result"
    }
   ],
   "source": [
    "# 17770 items in total\n",
    "len(title)"
   ]
  },
  {
   "cell_type": "code",
   "execution_count": 42,
   "metadata": {},
   "outputs": [
    {
     "data": {
      "text/html": [
       "<div>\n",
       "<style scoped>\n",
       "    .dataframe tbody tr th:only-of-type {\n",
       "        vertical-align: middle;\n",
       "    }\n",
       "\n",
       "    .dataframe tbody tr th {\n",
       "        vertical-align: top;\n",
       "    }\n",
       "\n",
       "    .dataframe thead th {\n",
       "        text-align: right;\n",
       "    }\n",
       "</style>\n",
       "<table border=\"1\" class=\"dataframe\">\n",
       "  <thead>\n",
       "    <tr style=\"text-align: right;\">\n",
       "      <th></th>\n",
       "      <th>Movie_Id</th>\n",
       "      <th>Year</th>\n",
       "      <th>Name</th>\n",
       "    </tr>\n",
       "  </thead>\n",
       "  <tbody>\n",
       "    <tr>\n",
       "      <th>0</th>\n",
       "      <td>1</td>\n",
       "      <td>2003.0</td>\n",
       "      <td>Dinosaur Planet</td>\n",
       "    </tr>\n",
       "    <tr>\n",
       "      <th>1</th>\n",
       "      <td>2</td>\n",
       "      <td>2004.0</td>\n",
       "      <td>Isle of Man TT 2004 Review</td>\n",
       "    </tr>\n",
       "    <tr>\n",
       "      <th>2</th>\n",
       "      <td>3</td>\n",
       "      <td>1997.0</td>\n",
       "      <td>Character</td>\n",
       "    </tr>\n",
       "    <tr>\n",
       "      <th>3</th>\n",
       "      <td>4</td>\n",
       "      <td>1994.0</td>\n",
       "      <td>Paula Abdul's Get Up &amp; Dance</td>\n",
       "    </tr>\n",
       "    <tr>\n",
       "      <th>4</th>\n",
       "      <td>5</td>\n",
       "      <td>2004.0</td>\n",
       "      <td>The Rise and Fall of ECW</td>\n",
       "    </tr>\n",
       "  </tbody>\n",
       "</table>\n",
       "</div>"
      ],
      "text/plain": [
       "   Movie_Id    Year                          Name\n",
       "0         1  2003.0               Dinosaur Planet\n",
       "1         2  2004.0    Isle of Man TT 2004 Review\n",
       "2         3  1997.0                     Character\n",
       "3         4  1994.0  Paula Abdul's Get Up & Dance\n",
       "4         5  2004.0      The Rise and Fall of ECW"
      ]
     },
     "execution_count": 42,
     "metadata": {},
     "output_type": "execute_result"
    }
   ],
   "source": [
    "title.head()"
   ]
  },
  {
   "cell_type": "code",
   "execution_count": 43,
   "metadata": {},
   "outputs": [],
   "source": [
    "merge_df = pd.merge(title, imdb_df[['tconst', 'primaryTitle', 'titleType', 'runtimeMinutes', 'startYear', 'isAdult', 'genres']], left_on=['Name', 'Year'], right_on = ['primaryTitle', 'startYear'], how='inner')"
   ]
  },
  {
   "cell_type": "code",
   "execution_count": 48,
   "metadata": {
    "scrolled": true
   },
   "outputs": [
    {
     "data": {
      "text/html": [
       "<div>\n",
       "<style scoped>\n",
       "    .dataframe tbody tr th:only-of-type {\n",
       "        vertical-align: middle;\n",
       "    }\n",
       "\n",
       "    .dataframe tbody tr th {\n",
       "        vertical-align: top;\n",
       "    }\n",
       "\n",
       "    .dataframe thead th {\n",
       "        text-align: right;\n",
       "    }\n",
       "</style>\n",
       "<table border=\"1\" class=\"dataframe\">\n",
       "  <thead>\n",
       "    <tr style=\"text-align: right;\">\n",
       "      <th></th>\n",
       "      <th>Movie_Id</th>\n",
       "      <th>Year</th>\n",
       "      <th>Name</th>\n",
       "      <th>tconst</th>\n",
       "      <th>primaryTitle</th>\n",
       "      <th>titleType</th>\n",
       "      <th>runtimeMinutes</th>\n",
       "      <th>startYear</th>\n",
       "      <th>isAdult</th>\n",
       "      <th>genres</th>\n",
       "    </tr>\n",
       "  </thead>\n",
       "  <tbody>\n",
       "    <tr>\n",
       "      <th>0</th>\n",
       "      <td>3</td>\n",
       "      <td>1997.0</td>\n",
       "      <td>Character</td>\n",
       "      <td>tt0119448</td>\n",
       "      <td>Character</td>\n",
       "      <td>movie</td>\n",
       "      <td>122</td>\n",
       "      <td>1997.0</td>\n",
       "      <td>0</td>\n",
       "      <td>Crime,Drama,Mystery</td>\n",
       "    </tr>\n",
       "    <tr>\n",
       "      <th>1</th>\n",
       "      <td>7</td>\n",
       "      <td>1992.0</td>\n",
       "      <td>8 Man</td>\n",
       "      <td>tt0182668</td>\n",
       "      <td>8 Man</td>\n",
       "      <td>movie</td>\n",
       "      <td>83</td>\n",
       "      <td>1992.0</td>\n",
       "      <td>0</td>\n",
       "      <td>Action,Sci-Fi</td>\n",
       "    </tr>\n",
       "    <tr>\n",
       "      <th>2</th>\n",
       "      <td>12</td>\n",
       "      <td>1947.0</td>\n",
       "      <td>My Favorite Brunette</td>\n",
       "      <td>tt0039645</td>\n",
       "      <td>My Favorite Brunette</td>\n",
       "      <td>movie</td>\n",
       "      <td>87</td>\n",
       "      <td>1947.0</td>\n",
       "      <td>0</td>\n",
       "      <td>Comedy,Crime,Film-Noir</td>\n",
       "    </tr>\n",
       "    <tr>\n",
       "      <th>3</th>\n",
       "      <td>18</td>\n",
       "      <td>1994.0</td>\n",
       "      <td>Immortal Beloved</td>\n",
       "      <td>tt0110116</td>\n",
       "      <td>Immortal Beloved</td>\n",
       "      <td>movie</td>\n",
       "      <td>121</td>\n",
       "      <td>1994.0</td>\n",
       "      <td>0</td>\n",
       "      <td>Biography,Drama,Music</td>\n",
       "    </tr>\n",
       "    <tr>\n",
       "      <th>4</th>\n",
       "      <td>20</td>\n",
       "      <td>1972.0</td>\n",
       "      <td>Seeta Aur Geeta</td>\n",
       "      <td>tt0078222</td>\n",
       "      <td>Seeta Aur Geeta</td>\n",
       "      <td>movie</td>\n",
       "      <td>162</td>\n",
       "      <td>1972.0</td>\n",
       "      <td>0</td>\n",
       "      <td>Comedy,Drama,Family</td>\n",
       "    </tr>\n",
       "  </tbody>\n",
       "</table>\n",
       "</div>"
      ],
      "text/plain": [
       "   Movie_Id    Year                  Name     tconst          primaryTitle  \\\n",
       "0         3  1997.0             Character  tt0119448             Character   \n",
       "1         7  1992.0                 8 Man  tt0182668                 8 Man   \n",
       "2        12  1947.0  My Favorite Brunette  tt0039645  My Favorite Brunette   \n",
       "3        18  1994.0      Immortal Beloved  tt0110116      Immortal Beloved   \n",
       "4        20  1972.0       Seeta Aur Geeta  tt0078222       Seeta Aur Geeta   \n",
       "\n",
       "  titleType runtimeMinutes  startYear  isAdult                  genres  \n",
       "0     movie            122     1997.0        0     Crime,Drama,Mystery  \n",
       "1     movie             83     1992.0        0           Action,Sci-Fi  \n",
       "2     movie             87     1947.0        0  Comedy,Crime,Film-Noir  \n",
       "3     movie            121     1994.0        0   Biography,Drama,Music  \n",
       "4     movie            162     1972.0        0     Comedy,Drama,Family  "
      ]
     },
     "execution_count": 48,
     "metadata": {},
     "output_type": "execute_result"
    }
   ],
   "source": [
    "merge_df.head()"
   ]
  },
  {
   "cell_type": "code",
   "execution_count": 45,
   "metadata": {},
   "outputs": [],
   "source": [
    "# Only keep the observations with max runtime for duplicate movies\n",
    "imdb_temp = merge_df[['Movie_Id', 'tconst', 'runtimeMinutes']]\n",
    "idx = imdb_temp.groupby('Movie_Id')['runtimeMinutes'].transform(max) == imdb_temp['runtimeMinutes']\n",
    "\n",
    "imdb_temp = imdb_temp[idx]\n"
   ]
  },
  {
   "cell_type": "code",
   "execution_count": 60,
   "metadata": {},
   "outputs": [
    {
     "data": {
      "text/html": [
       "<div>\n",
       "<style scoped>\n",
       "    .dataframe tbody tr th:only-of-type {\n",
       "        vertical-align: middle;\n",
       "    }\n",
       "\n",
       "    .dataframe tbody tr th {\n",
       "        vertical-align: top;\n",
       "    }\n",
       "\n",
       "    .dataframe thead th {\n",
       "        text-align: right;\n",
       "    }\n",
       "</style>\n",
       "<table border=\"1\" class=\"dataframe\">\n",
       "  <thead>\n",
       "    <tr style=\"text-align: right;\">\n",
       "      <th></th>\n",
       "      <th>Movie_Id</th>\n",
       "      <th>tconst</th>\n",
       "      <th>Year</th>\n",
       "      <th>Name</th>\n",
       "      <th>primaryTitle</th>\n",
       "      <th>titleType</th>\n",
       "      <th>runtimeMinutes</th>\n",
       "      <th>startYear</th>\n",
       "      <th>isAdult</th>\n",
       "      <th>genres</th>\n",
       "    </tr>\n",
       "  </thead>\n",
       "  <tbody>\n",
       "    <tr>\n",
       "      <th>0</th>\n",
       "      <td>3</td>\n",
       "      <td>tt0119448</td>\n",
       "      <td>1997.0</td>\n",
       "      <td>Character</td>\n",
       "      <td>Character</td>\n",
       "      <td>movie</td>\n",
       "      <td>122</td>\n",
       "      <td>1997.0</td>\n",
       "      <td>0</td>\n",
       "      <td>Crime,Drama,Mystery</td>\n",
       "    </tr>\n",
       "    <tr>\n",
       "      <th>1</th>\n",
       "      <td>7</td>\n",
       "      <td>tt0182668</td>\n",
       "      <td>1992.0</td>\n",
       "      <td>8 Man</td>\n",
       "      <td>8 Man</td>\n",
       "      <td>movie</td>\n",
       "      <td>83</td>\n",
       "      <td>1992.0</td>\n",
       "      <td>0</td>\n",
       "      <td>Action,Sci-Fi</td>\n",
       "    </tr>\n",
       "    <tr>\n",
       "      <th>2</th>\n",
       "      <td>12</td>\n",
       "      <td>tt0039645</td>\n",
       "      <td>1947.0</td>\n",
       "      <td>My Favorite Brunette</td>\n",
       "      <td>My Favorite Brunette</td>\n",
       "      <td>movie</td>\n",
       "      <td>87</td>\n",
       "      <td>1947.0</td>\n",
       "      <td>0</td>\n",
       "      <td>Comedy,Crime,Film-Noir</td>\n",
       "    </tr>\n",
       "    <tr>\n",
       "      <th>3</th>\n",
       "      <td>18</td>\n",
       "      <td>tt0110116</td>\n",
       "      <td>1994.0</td>\n",
       "      <td>Immortal Beloved</td>\n",
       "      <td>Immortal Beloved</td>\n",
       "      <td>movie</td>\n",
       "      <td>121</td>\n",
       "      <td>1994.0</td>\n",
       "      <td>0</td>\n",
       "      <td>Biography,Drama,Music</td>\n",
       "    </tr>\n",
       "    <tr>\n",
       "      <th>4</th>\n",
       "      <td>20</td>\n",
       "      <td>tt0078222</td>\n",
       "      <td>1972.0</td>\n",
       "      <td>Seeta Aur Geeta</td>\n",
       "      <td>Seeta Aur Geeta</td>\n",
       "      <td>movie</td>\n",
       "      <td>162</td>\n",
       "      <td>1972.0</td>\n",
       "      <td>0</td>\n",
       "      <td>Comedy,Drama,Family</td>\n",
       "    </tr>\n",
       "  </tbody>\n",
       "</table>\n",
       "</div>"
      ],
      "text/plain": [
       "   Movie_Id     tconst    Year                  Name          primaryTitle  \\\n",
       "0         3  tt0119448  1997.0             Character             Character   \n",
       "1         7  tt0182668  1992.0                 8 Man                 8 Man   \n",
       "2        12  tt0039645  1947.0  My Favorite Brunette  My Favorite Brunette   \n",
       "3        18  tt0110116  1994.0      Immortal Beloved      Immortal Beloved   \n",
       "4        20  tt0078222  1972.0       Seeta Aur Geeta       Seeta Aur Geeta   \n",
       "\n",
       "  titleType runtimeMinutes  startYear  isAdult                  genres  \n",
       "0     movie            122     1997.0        0     Crime,Drama,Mystery  \n",
       "1     movie             83     1992.0        0           Action,Sci-Fi  \n",
       "2     movie             87     1947.0        0  Comedy,Crime,Film-Noir  \n",
       "3     movie            121     1994.0        0   Biography,Drama,Music  \n",
       "4     movie            162     1972.0        0     Comedy,Drama,Family  "
      ]
     },
     "execution_count": 60,
     "metadata": {},
     "output_type": "execute_result"
    }
   ],
   "source": [
    "merge_df.head()"
   ]
  },
  {
   "cell_type": "code",
   "execution_count": 50,
   "metadata": {},
   "outputs": [],
   "source": [
    "merge_df = pd.merge(imdb_temp[['Movie_Id','tconst']], merge_df, on = ['tconst', 'Movie_Id'], how = \"left\")"
   ]
  },
  {
   "cell_type": "code",
   "execution_count": 57,
   "metadata": {},
   "outputs": [
    {
     "data": {
      "text/plain": [
       "7597"
      ]
     },
     "execution_count": 57,
     "metadata": {},
     "output_type": "execute_result"
    }
   ],
   "source": [
    "merge_df.tconst.nunique()"
   ]
  },
  {
   "cell_type": "code",
   "execution_count": 58,
   "metadata": {},
   "outputs": [
    {
     "data": {
      "text/plain": [
       "7602"
      ]
     },
     "execution_count": 58,
     "metadata": {},
     "output_type": "execute_result"
    }
   ],
   "source": [
    "merge_df.Movie_Id.nunique()"
   ]
  },
  {
   "cell_type": "code",
   "execution_count": 53,
   "metadata": {},
   "outputs": [],
   "source": [
    "cnt = pd.DataFrame(merge_df.Movie_Id.value_counts()).reset_index()\n",
    "cnt.columns = ['Movie_Id', 'cnt']"
   ]
  },
  {
   "cell_type": "code",
   "execution_count": 54,
   "metadata": {},
   "outputs": [],
   "source": [
    "cnt_lst = pd.Series(cnt[cnt.cnt > 1].Movie_Id.unique())"
   ]
  },
  {
   "cell_type": "code",
   "execution_count": 141,
   "metadata": {},
   "outputs": [
    {
     "data": {
      "text/plain": [
       "Series([], dtype: int64)"
      ]
     },
     "execution_count": 141,
     "metadata": {},
     "output_type": "execute_result"
    }
   ],
   "source": [
    "# No Duplicate movie titles\n",
    "cnt_lst"
   ]
  },
  {
   "cell_type": "code",
   "execution_count": null,
   "metadata": {},
   "outputs": [],
   "source": [
    "## Ratings"
   ]
  },
  {
   "cell_type": "code",
   "execution_count": 61,
   "metadata": {},
   "outputs": [
    {
     "data": {
      "text/html": [
       "<div>\n",
       "<style scoped>\n",
       "    .dataframe tbody tr th:only-of-type {\n",
       "        vertical-align: middle;\n",
       "    }\n",
       "\n",
       "    .dataframe tbody tr th {\n",
       "        vertical-align: top;\n",
       "    }\n",
       "\n",
       "    .dataframe thead th {\n",
       "        text-align: right;\n",
       "    }\n",
       "</style>\n",
       "<table border=\"1\" class=\"dataframe\">\n",
       "  <thead>\n",
       "    <tr style=\"text-align: right;\">\n",
       "      <th></th>\n",
       "      <th>tconst</th>\n",
       "      <th>averageRating</th>\n",
       "      <th>numVotes</th>\n",
       "    </tr>\n",
       "  </thead>\n",
       "  <tbody>\n",
       "    <tr>\n",
       "      <th>0</th>\n",
       "      <td>tt0000001</td>\n",
       "      <td>5.6</td>\n",
       "      <td>1586</td>\n",
       "    </tr>\n",
       "    <tr>\n",
       "      <th>1</th>\n",
       "      <td>tt0000002</td>\n",
       "      <td>6.1</td>\n",
       "      <td>191</td>\n",
       "    </tr>\n",
       "    <tr>\n",
       "      <th>2</th>\n",
       "      <td>tt0000003</td>\n",
       "      <td>6.5</td>\n",
       "      <td>1249</td>\n",
       "    </tr>\n",
       "    <tr>\n",
       "      <th>3</th>\n",
       "      <td>tt0000004</td>\n",
       "      <td>6.2</td>\n",
       "      <td>118</td>\n",
       "    </tr>\n",
       "    <tr>\n",
       "      <th>4</th>\n",
       "      <td>tt0000005</td>\n",
       "      <td>6.1</td>\n",
       "      <td>1998</td>\n",
       "    </tr>\n",
       "  </tbody>\n",
       "</table>\n",
       "</div>"
      ],
      "text/plain": [
       "      tconst  averageRating  numVotes\n",
       "0  tt0000001            5.6      1586\n",
       "1  tt0000002            6.1       191\n",
       "2  tt0000003            6.5      1249\n",
       "3  tt0000004            6.2       118\n",
       "4  tt0000005            6.1      1998"
      ]
     },
     "execution_count": 61,
     "metadata": {},
     "output_type": "execute_result"
    }
   ],
   "source": [
    "imdb_df = pd.read_csv(\"./IMDB_Data/title_ratings.tsv\", sep=\"\\t\")\n",
    "\n",
    "imdb_df.head()"
   ]
  },
  {
   "cell_type": "code",
   "execution_count": 62,
   "metadata": {},
   "outputs": [
    {
     "data": {
      "text/plain": [
       "7602"
      ]
     },
     "execution_count": 62,
     "metadata": {},
     "output_type": "execute_result"
    }
   ],
   "source": [
    "merge_df = pd.merge(merge_df, imdb_df[['tconst', 'averageRating', 'numVotes']], left_on='tconst', right_on = 'tconst', how='left')\n",
    "\n",
    "merge_df.head()\n",
    "\n",
    "merge_df.Movie_Id.nunique()"
   ]
  },
  {
   "cell_type": "code",
   "execution_count": 63,
   "metadata": {},
   "outputs": [
    {
     "data": {
      "text/plain": [
       "7597"
      ]
     },
     "execution_count": 63,
     "metadata": {},
     "output_type": "execute_result"
    }
   ],
   "source": [
    "len(merge_df.tconst.unique())"
   ]
  },
  {
   "cell_type": "code",
   "execution_count": null,
   "metadata": {},
   "outputs": [],
   "source": [
    "## Crew Names"
   ]
  },
  {
   "cell_type": "code",
   "execution_count": 95,
   "metadata": {},
   "outputs": [
    {
     "data": {
      "text/html": [
       "<div>\n",
       "<style scoped>\n",
       "    .dataframe tbody tr th:only-of-type {\n",
       "        vertical-align: middle;\n",
       "    }\n",
       "\n",
       "    .dataframe tbody tr th {\n",
       "        vertical-align: top;\n",
       "    }\n",
       "\n",
       "    .dataframe thead th {\n",
       "        text-align: right;\n",
       "    }\n",
       "</style>\n",
       "<table border=\"1\" class=\"dataframe\">\n",
       "  <thead>\n",
       "    <tr style=\"text-align: right;\">\n",
       "      <th></th>\n",
       "      <th>tconst</th>\n",
       "      <th>ordering</th>\n",
       "      <th>nconst</th>\n",
       "      <th>category</th>\n",
       "      <th>job</th>\n",
       "      <th>characters</th>\n",
       "    </tr>\n",
       "  </thead>\n",
       "  <tbody>\n",
       "    <tr>\n",
       "      <th>0</th>\n",
       "      <td>tt0000001</td>\n",
       "      <td>1</td>\n",
       "      <td>nm1588970</td>\n",
       "      <td>self</td>\n",
       "      <td>\\N</td>\n",
       "      <td>[\"Herself\"]</td>\n",
       "    </tr>\n",
       "    <tr>\n",
       "      <th>1</th>\n",
       "      <td>tt0000001</td>\n",
       "      <td>2</td>\n",
       "      <td>nm0005690</td>\n",
       "      <td>director</td>\n",
       "      <td>\\N</td>\n",
       "      <td>\\N</td>\n",
       "    </tr>\n",
       "    <tr>\n",
       "      <th>2</th>\n",
       "      <td>tt0000001</td>\n",
       "      <td>3</td>\n",
       "      <td>nm0374658</td>\n",
       "      <td>cinematographer</td>\n",
       "      <td>director of photography</td>\n",
       "      <td>\\N</td>\n",
       "    </tr>\n",
       "    <tr>\n",
       "      <th>3</th>\n",
       "      <td>tt0000002</td>\n",
       "      <td>1</td>\n",
       "      <td>nm0721526</td>\n",
       "      <td>director</td>\n",
       "      <td>\\N</td>\n",
       "      <td>\\N</td>\n",
       "    </tr>\n",
       "    <tr>\n",
       "      <th>4</th>\n",
       "      <td>tt0000002</td>\n",
       "      <td>2</td>\n",
       "      <td>nm1335271</td>\n",
       "      <td>composer</td>\n",
       "      <td>\\N</td>\n",
       "      <td>\\N</td>\n",
       "    </tr>\n",
       "  </tbody>\n",
       "</table>\n",
       "</div>"
      ],
      "text/plain": [
       "      tconst  ordering     nconst         category                      job  \\\n",
       "0  tt0000001         1  nm1588970             self                       \\N   \n",
       "1  tt0000001         2  nm0005690         director                       \\N   \n",
       "2  tt0000001         3  nm0374658  cinematographer  director of photography   \n",
       "3  tt0000002         1  nm0721526         director                       \\N   \n",
       "4  tt0000002         2  nm1335271         composer                       \\N   \n",
       "\n",
       "    characters  \n",
       "0  [\"Herself\"]  \n",
       "1           \\N  \n",
       "2           \\N  \n",
       "3           \\N  \n",
       "4           \\N  "
      ]
     },
     "execution_count": 95,
     "metadata": {},
     "output_type": "execute_result"
    }
   ],
   "source": [
    "imdb_df = pd.read_csv(\"./IMDB_Data/title_principals.tsv\", sep=\"\\t\")\n",
    "imdb_df.head()"
   ]
  },
  {
   "cell_type": "code",
   "execution_count": 96,
   "metadata": {},
   "outputs": [
    {
     "data": {
      "text/plain": [
       "array(['self', 'director', 'cinematographer', 'composer', 'producer',\n",
       "       'editor', 'actor', 'actress', 'writer', 'production_designer',\n",
       "       'archive_footage', 'archive_sound'], dtype=object)"
      ]
     },
     "execution_count": 96,
     "metadata": {},
     "output_type": "execute_result"
    }
   ],
   "source": [
    "imdb_df.category.unique()"
   ]
  },
  {
   "cell_type": "code",
   "execution_count": 97,
   "metadata": {},
   "outputs": [],
   "source": [
    "imdb_df = imdb_df[imdb_df.category.isin(['director', 'actor', 'actress']) & imdb_df.tconst.isin(list(merge_df.tconst.unique()))]"
   ]
  },
  {
   "cell_type": "code",
   "execution_count": 98,
   "metadata": {},
   "outputs": [
    {
     "data": {
      "text/plain": [
       "array(['actress', 'actor', 'director'], dtype=object)"
      ]
     },
     "execution_count": 98,
     "metadata": {},
     "output_type": "execute_result"
    }
   ],
   "source": [
    "imdb_df.category.unique()"
   ]
  },
  {
   "cell_type": "code",
   "execution_count": 99,
   "metadata": {},
   "outputs": [
    {
     "data": {
      "text/plain": [
       "7597"
      ]
     },
     "execution_count": 99,
     "metadata": {},
     "output_type": "execute_result"
    }
   ],
   "source": [
    "merge_df.tconst.nunique()"
   ]
  },
  {
   "cell_type": "code",
   "execution_count": 100,
   "metadata": {},
   "outputs": [
    {
     "data": {
      "text/plain": [
       "7570"
      ]
     },
     "execution_count": 100,
     "metadata": {},
     "output_type": "execute_result"
    }
   ],
   "source": [
    "imdb_df.tconst.nunique()"
   ]
  },
  {
   "cell_type": "code",
   "execution_count": 101,
   "metadata": {},
   "outputs": [],
   "source": [
    "imdb_df_name = pd.read_csv(\"./IMDB_Data/name_basics.tsv\", sep=\"\\t\")"
   ]
  },
  {
   "cell_type": "code",
   "execution_count": 102,
   "metadata": {},
   "outputs": [
    {
     "data": {
      "text/html": [
       "<div>\n",
       "<style scoped>\n",
       "    .dataframe tbody tr th:only-of-type {\n",
       "        vertical-align: middle;\n",
       "    }\n",
       "\n",
       "    .dataframe tbody tr th {\n",
       "        vertical-align: top;\n",
       "    }\n",
       "\n",
       "    .dataframe thead th {\n",
       "        text-align: right;\n",
       "    }\n",
       "</style>\n",
       "<table border=\"1\" class=\"dataframe\">\n",
       "  <thead>\n",
       "    <tr style=\"text-align: right;\">\n",
       "      <th></th>\n",
       "      <th>nconst</th>\n",
       "      <th>primaryName</th>\n",
       "      <th>birthYear</th>\n",
       "      <th>deathYear</th>\n",
       "      <th>primaryProfession</th>\n",
       "      <th>knownForTitles</th>\n",
       "    </tr>\n",
       "  </thead>\n",
       "  <tbody>\n",
       "    <tr>\n",
       "      <th>0</th>\n",
       "      <td>nm0000001</td>\n",
       "      <td>Fred Astaire</td>\n",
       "      <td>1899</td>\n",
       "      <td>1987</td>\n",
       "      <td>soundtrack,actor,miscellaneous</td>\n",
       "      <td>tt0072308,tt0053137,tt0043044,tt0050419</td>\n",
       "    </tr>\n",
       "    <tr>\n",
       "      <th>1</th>\n",
       "      <td>nm0000002</td>\n",
       "      <td>Lauren Bacall</td>\n",
       "      <td>1924</td>\n",
       "      <td>2014</td>\n",
       "      <td>actress,soundtrack</td>\n",
       "      <td>tt0037382,tt0038355,tt0071877,tt0117057</td>\n",
       "    </tr>\n",
       "    <tr>\n",
       "      <th>2</th>\n",
       "      <td>nm0000003</td>\n",
       "      <td>Brigitte Bardot</td>\n",
       "      <td>1934</td>\n",
       "      <td>\\N</td>\n",
       "      <td>actress,soundtrack,producer</td>\n",
       "      <td>tt0059956,tt0049189,tt0054452,tt0057345</td>\n",
       "    </tr>\n",
       "    <tr>\n",
       "      <th>3</th>\n",
       "      <td>nm0000004</td>\n",
       "      <td>John Belushi</td>\n",
       "      <td>1949</td>\n",
       "      <td>1982</td>\n",
       "      <td>actor,soundtrack,writer</td>\n",
       "      <td>tt0078723,tt0077975,tt0080455,tt0072562</td>\n",
       "    </tr>\n",
       "    <tr>\n",
       "      <th>4</th>\n",
       "      <td>nm0000005</td>\n",
       "      <td>Ingmar Bergman</td>\n",
       "      <td>1918</td>\n",
       "      <td>2007</td>\n",
       "      <td>writer,director,actor</td>\n",
       "      <td>tt0050986,tt0083922,tt0069467,tt0050976</td>\n",
       "    </tr>\n",
       "  </tbody>\n",
       "</table>\n",
       "</div>"
      ],
      "text/plain": [
       "      nconst      primaryName birthYear deathYear  \\\n",
       "0  nm0000001     Fred Astaire      1899      1987   \n",
       "1  nm0000002    Lauren Bacall      1924      2014   \n",
       "2  nm0000003  Brigitte Bardot      1934        \\N   \n",
       "3  nm0000004     John Belushi      1949      1982   \n",
       "4  nm0000005   Ingmar Bergman      1918      2007   \n",
       "\n",
       "                primaryProfession                           knownForTitles  \n",
       "0  soundtrack,actor,miscellaneous  tt0072308,tt0053137,tt0043044,tt0050419  \n",
       "1              actress,soundtrack  tt0037382,tt0038355,tt0071877,tt0117057  \n",
       "2     actress,soundtrack,producer  tt0059956,tt0049189,tt0054452,tt0057345  \n",
       "3         actor,soundtrack,writer  tt0078723,tt0077975,tt0080455,tt0072562  \n",
       "4           writer,director,actor  tt0050986,tt0083922,tt0069467,tt0050976  "
      ]
     },
     "execution_count": 102,
     "metadata": {},
     "output_type": "execute_result"
    }
   ],
   "source": [
    "imdb_df_name.head()"
   ]
  },
  {
   "cell_type": "code",
   "execution_count": 103,
   "metadata": {},
   "outputs": [],
   "source": [
    "imdb_df = pd.merge(imdb_df[['tconst', 'nconst', 'category']], imdb_df_name[['nconst', 'primaryName']], left_on='nconst', right_on = 'nconst', how = 'inner')"
   ]
  },
  {
   "cell_type": "code",
   "execution_count": 104,
   "metadata": {
    "scrolled": true
   },
   "outputs": [
    {
     "data": {
      "text/html": [
       "<div>\n",
       "<style scoped>\n",
       "    .dataframe tbody tr th:only-of-type {\n",
       "        vertical-align: middle;\n",
       "    }\n",
       "\n",
       "    .dataframe tbody tr th {\n",
       "        vertical-align: top;\n",
       "    }\n",
       "\n",
       "    .dataframe thead th {\n",
       "        text-align: right;\n",
       "    }\n",
       "</style>\n",
       "<table border=\"1\" class=\"dataframe\">\n",
       "  <thead>\n",
       "    <tr style=\"text-align: right;\">\n",
       "      <th></th>\n",
       "      <th>tconst</th>\n",
       "      <th>nconst</th>\n",
       "      <th>category</th>\n",
       "      <th>primaryName</th>\n",
       "    </tr>\n",
       "  </thead>\n",
       "  <tbody>\n",
       "    <tr>\n",
       "      <th>0</th>\n",
       "      <td>tt0003740</td>\n",
       "      <td>nm0021935</td>\n",
       "      <td>actress</td>\n",
       "      <td>Italia Almirante-Manzini</td>\n",
       "    </tr>\n",
       "    <tr>\n",
       "      <th>1</th>\n",
       "      <td>tt0003740</td>\n",
       "      <td>nm0702894</td>\n",
       "      <td>actress</td>\n",
       "      <td>Lidia Quaranta</td>\n",
       "    </tr>\n",
       "    <tr>\n",
       "      <th>2</th>\n",
       "      <td>tt0003740</td>\n",
       "      <td>nm0656034</td>\n",
       "      <td>actor</td>\n",
       "      <td>Bartolomeo Pagano</td>\n",
       "    </tr>\n",
       "    <tr>\n",
       "      <th>3</th>\n",
       "      <td>tt0003740</td>\n",
       "      <td>nm0146028</td>\n",
       "      <td>actress</td>\n",
       "      <td>Carolina Catena</td>\n",
       "    </tr>\n",
       "    <tr>\n",
       "      <th>4</th>\n",
       "      <td>tt0003740</td>\n",
       "      <td>nm0665163</td>\n",
       "      <td>director</td>\n",
       "      <td>Giovanni Pastrone</td>\n",
       "    </tr>\n",
       "  </tbody>\n",
       "</table>\n",
       "</div>"
      ],
      "text/plain": [
       "      tconst     nconst  category               primaryName\n",
       "0  tt0003740  nm0021935   actress  Italia Almirante-Manzini\n",
       "1  tt0003740  nm0702894   actress            Lidia Quaranta\n",
       "2  tt0003740  nm0656034     actor         Bartolomeo Pagano\n",
       "3  tt0003740  nm0146028   actress           Carolina Catena\n",
       "4  tt0003740  nm0665163  director         Giovanni Pastrone"
      ]
     },
     "execution_count": 104,
     "metadata": {},
     "output_type": "execute_result"
    }
   ],
   "source": [
    "imdb_df.head()"
   ]
  },
  {
   "cell_type": "code",
   "execution_count": 105,
   "metadata": {},
   "outputs": [],
   "source": [
    "imdb_df_dir = imdb_df[imdb_df.category == 'director']\n",
    "imdb_df_act = imdb_df[imdb_df.category != 'director']\n",
    "del imdb_df"
   ]
  },
  {
   "cell_type": "code",
   "execution_count": 106,
   "metadata": {},
   "outputs": [
    {
     "data": {
      "text/html": [
       "<div>\n",
       "<style scoped>\n",
       "    .dataframe tbody tr th:only-of-type {\n",
       "        vertical-align: middle;\n",
       "    }\n",
       "\n",
       "    .dataframe tbody tr th {\n",
       "        vertical-align: top;\n",
       "    }\n",
       "\n",
       "    .dataframe thead th {\n",
       "        text-align: right;\n",
       "    }\n",
       "</style>\n",
       "<table border=\"1\" class=\"dataframe\">\n",
       "  <thead>\n",
       "    <tr style=\"text-align: right;\">\n",
       "      <th></th>\n",
       "      <th>tconst</th>\n",
       "      <th>nconst</th>\n",
       "      <th>category</th>\n",
       "      <th>primaryName</th>\n",
       "    </tr>\n",
       "  </thead>\n",
       "  <tbody>\n",
       "    <tr>\n",
       "      <th>4</th>\n",
       "      <td>tt0003740</td>\n",
       "      <td>nm0665163</td>\n",
       "      <td>director</td>\n",
       "      <td>Giovanni Pastrone</td>\n",
       "    </tr>\n",
       "    <tr>\n",
       "      <th>14</th>\n",
       "      <td>tt0061523</td>\n",
       "      <td>nm0000122</td>\n",
       "      <td>director</td>\n",
       "      <td>Charles Chaplin</td>\n",
       "    </tr>\n",
       "    <tr>\n",
       "      <th>20</th>\n",
       "      <td>tt0004707</td>\n",
       "      <td>nm0784407</td>\n",
       "      <td>director</td>\n",
       "      <td>Mack Sennett</td>\n",
       "    </tr>\n",
       "    <tr>\n",
       "      <th>21</th>\n",
       "      <td>tt0004707</td>\n",
       "      <td>nm0071658</td>\n",
       "      <td>director</td>\n",
       "      <td>Charles Bennett</td>\n",
       "    </tr>\n",
       "    <tr>\n",
       "      <th>32</th>\n",
       "      <td>tt0004972</td>\n",
       "      <td>nm0000428</td>\n",
       "      <td>director</td>\n",
       "      <td>D.W. Griffith</td>\n",
       "    </tr>\n",
       "  </tbody>\n",
       "</table>\n",
       "</div>"
      ],
      "text/plain": [
       "       tconst     nconst  category        primaryName\n",
       "4   tt0003740  nm0665163  director  Giovanni Pastrone\n",
       "14  tt0061523  nm0000122  director    Charles Chaplin\n",
       "20  tt0004707  nm0784407  director       Mack Sennett\n",
       "21  tt0004707  nm0071658  director    Charles Bennett\n",
       "32  tt0004972  nm0000428  director      D.W. Griffith"
      ]
     },
     "execution_count": 106,
     "metadata": {},
     "output_type": "execute_result"
    }
   ],
   "source": [
    "imdb_df_dir.head()"
   ]
  },
  {
   "cell_type": "code",
   "execution_count": 107,
   "metadata": {},
   "outputs": [
    {
     "data": {
      "text/html": [
       "<div>\n",
       "<style scoped>\n",
       "    .dataframe tbody tr th:only-of-type {\n",
       "        vertical-align: middle;\n",
       "    }\n",
       "\n",
       "    .dataframe tbody tr th {\n",
       "        vertical-align: top;\n",
       "    }\n",
       "\n",
       "    .dataframe thead th {\n",
       "        text-align: right;\n",
       "    }\n",
       "</style>\n",
       "<table border=\"1\" class=\"dataframe\">\n",
       "  <thead>\n",
       "    <tr style=\"text-align: right;\">\n",
       "      <th></th>\n",
       "      <th>tconst</th>\n",
       "      <th>nconst</th>\n",
       "      <th>category</th>\n",
       "      <th>primaryName</th>\n",
       "    </tr>\n",
       "  </thead>\n",
       "  <tbody>\n",
       "    <tr>\n",
       "      <th>0</th>\n",
       "      <td>tt0003740</td>\n",
       "      <td>nm0021935</td>\n",
       "      <td>actress</td>\n",
       "      <td>Italia Almirante-Manzini</td>\n",
       "    </tr>\n",
       "    <tr>\n",
       "      <th>1</th>\n",
       "      <td>tt0003740</td>\n",
       "      <td>nm0702894</td>\n",
       "      <td>actress</td>\n",
       "      <td>Lidia Quaranta</td>\n",
       "    </tr>\n",
       "    <tr>\n",
       "      <th>2</th>\n",
       "      <td>tt0003740</td>\n",
       "      <td>nm0656034</td>\n",
       "      <td>actor</td>\n",
       "      <td>Bartolomeo Pagano</td>\n",
       "    </tr>\n",
       "    <tr>\n",
       "      <th>3</th>\n",
       "      <td>tt0003740</td>\n",
       "      <td>nm0146028</td>\n",
       "      <td>actress</td>\n",
       "      <td>Carolina Catena</td>\n",
       "    </tr>\n",
       "    <tr>\n",
       "      <th>5</th>\n",
       "      <td>tt0004707</td>\n",
       "      <td>nm0000122</td>\n",
       "      <td>actor</td>\n",
       "      <td>Charles Chaplin</td>\n",
       "    </tr>\n",
       "  </tbody>\n",
       "</table>\n",
       "</div>"
      ],
      "text/plain": [
       "      tconst     nconst category               primaryName\n",
       "0  tt0003740  nm0021935  actress  Italia Almirante-Manzini\n",
       "1  tt0003740  nm0702894  actress            Lidia Quaranta\n",
       "2  tt0003740  nm0656034    actor         Bartolomeo Pagano\n",
       "3  tt0003740  nm0146028  actress           Carolina Catena\n",
       "5  tt0004707  nm0000122    actor           Charles Chaplin"
      ]
     },
     "execution_count": 107,
     "metadata": {},
     "output_type": "execute_result"
    }
   ],
   "source": [
    "imdb_df_act.head()"
   ]
  },
  {
   "cell_type": "code",
   "execution_count": 108,
   "metadata": {
    "scrolled": true
   },
   "outputs": [],
   "source": [
    "imdb_df_dir = imdb_df_dir.groupby(['tconst'])['primaryName'].apply(list).apply(pd.Series).reset_index()"
   ]
  },
  {
   "cell_type": "code",
   "execution_count": 110,
   "metadata": {},
   "outputs": [
    {
     "data": {
      "text/html": [
       "<div>\n",
       "<style scoped>\n",
       "    .dataframe tbody tr th:only-of-type {\n",
       "        vertical-align: middle;\n",
       "    }\n",
       "\n",
       "    .dataframe tbody tr th {\n",
       "        vertical-align: top;\n",
       "    }\n",
       "\n",
       "    .dataframe thead th {\n",
       "        text-align: right;\n",
       "    }\n",
       "</style>\n",
       "<table border=\"1\" class=\"dataframe\">\n",
       "  <thead>\n",
       "    <tr style=\"text-align: right;\">\n",
       "      <th></th>\n",
       "      <th>tconst</th>\n",
       "      <th>0</th>\n",
       "      <th>1</th>\n",
       "      <th>2</th>\n",
       "      <th>3</th>\n",
       "      <th>4</th>\n",
       "      <th>5</th>\n",
       "    </tr>\n",
       "  </thead>\n",
       "  <tbody>\n",
       "    <tr>\n",
       "      <th>0</th>\n",
       "      <td>tt0003740</td>\n",
       "      <td>Giovanni Pastrone</td>\n",
       "      <td>NaN</td>\n",
       "      <td>NaN</td>\n",
       "      <td>NaN</td>\n",
       "      <td>NaN</td>\n",
       "      <td>NaN</td>\n",
       "    </tr>\n",
       "    <tr>\n",
       "      <th>1</th>\n",
       "      <td>tt0004707</td>\n",
       "      <td>Mack Sennett</td>\n",
       "      <td>Charles Bennett</td>\n",
       "      <td>NaN</td>\n",
       "      <td>NaN</td>\n",
       "      <td>NaN</td>\n",
       "      <td>NaN</td>\n",
       "    </tr>\n",
       "    <tr>\n",
       "      <th>2</th>\n",
       "      <td>tt0004972</td>\n",
       "      <td>D.W. Griffith</td>\n",
       "      <td>NaN</td>\n",
       "      <td>NaN</td>\n",
       "      <td>NaN</td>\n",
       "      <td>NaN</td>\n",
       "      <td>NaN</td>\n",
       "    </tr>\n",
       "    <tr>\n",
       "      <th>3</th>\n",
       "      <td>tt0010418</td>\n",
       "      <td>Cecil B. DeMille</td>\n",
       "      <td>NaN</td>\n",
       "      <td>NaN</td>\n",
       "      <td>NaN</td>\n",
       "      <td>NaN</td>\n",
       "      <td>NaN</td>\n",
       "    </tr>\n",
       "    <tr>\n",
       "      <th>4</th>\n",
       "      <td>tt0011130</td>\n",
       "      <td>John S. Robertson</td>\n",
       "      <td>NaN</td>\n",
       "      <td>NaN</td>\n",
       "      <td>NaN</td>\n",
       "      <td>NaN</td>\n",
       "      <td>NaN</td>\n",
       "    </tr>\n",
       "  </tbody>\n",
       "</table>\n",
       "</div>"
      ],
      "text/plain": [
       "      tconst                  0                1    2    3    4    5\n",
       "0  tt0003740  Giovanni Pastrone              NaN  NaN  NaN  NaN  NaN\n",
       "1  tt0004707       Mack Sennett  Charles Bennett  NaN  NaN  NaN  NaN\n",
       "2  tt0004972      D.W. Griffith              NaN  NaN  NaN  NaN  NaN\n",
       "3  tt0010418   Cecil B. DeMille              NaN  NaN  NaN  NaN  NaN\n",
       "4  tt0011130  John S. Robertson              NaN  NaN  NaN  NaN  NaN"
      ]
     },
     "execution_count": 110,
     "metadata": {},
     "output_type": "execute_result"
    }
   ],
   "source": [
    "imdb_df_dir.head()\n",
    "#imdb_df_dir.to_csv(\"./IMDB_Data/imdb_df_dir.csv\")"
   ]
  },
  {
   "cell_type": "code",
   "execution_count": 111,
   "metadata": {},
   "outputs": [],
   "source": [
    "imdb_df_act = imdb_df_act.groupby(['tconst'])['primaryName'].apply(list).apply(pd.Series)"
   ]
  },
  {
   "cell_type": "code",
   "execution_count": 112,
   "metadata": {},
   "outputs": [
    {
     "data": {
      "text/html": [
       "<div>\n",
       "<style scoped>\n",
       "    .dataframe tbody tr th:only-of-type {\n",
       "        vertical-align: middle;\n",
       "    }\n",
       "\n",
       "    .dataframe tbody tr th {\n",
       "        vertical-align: top;\n",
       "    }\n",
       "\n",
       "    .dataframe thead th {\n",
       "        text-align: right;\n",
       "    }\n",
       "</style>\n",
       "<table border=\"1\" class=\"dataframe\">\n",
       "  <thead>\n",
       "    <tr style=\"text-align: right;\">\n",
       "      <th></th>\n",
       "      <th>tconst</th>\n",
       "      <th>0</th>\n",
       "      <th>1</th>\n",
       "      <th>2</th>\n",
       "      <th>3</th>\n",
       "      <th>4</th>\n",
       "      <th>5</th>\n",
       "      <th>6</th>\n",
       "      <th>7</th>\n",
       "      <th>8</th>\n",
       "      <th>9</th>\n",
       "    </tr>\n",
       "  </thead>\n",
       "  <tbody>\n",
       "    <tr>\n",
       "      <th>0</th>\n",
       "      <td>tt0003740</td>\n",
       "      <td>Italia Almirante-Manzini</td>\n",
       "      <td>Lidia Quaranta</td>\n",
       "      <td>Bartolomeo Pagano</td>\n",
       "      <td>Carolina Catena</td>\n",
       "      <td>NaN</td>\n",
       "      <td>NaN</td>\n",
       "      <td>NaN</td>\n",
       "      <td>NaN</td>\n",
       "      <td>NaN</td>\n",
       "      <td>NaN</td>\n",
       "    </tr>\n",
       "    <tr>\n",
       "      <th>1</th>\n",
       "      <td>tt0004707</td>\n",
       "      <td>Charles Chaplin</td>\n",
       "      <td>Marie Dressler</td>\n",
       "      <td>Mabel Normand</td>\n",
       "      <td>Mack Swain</td>\n",
       "      <td>NaN</td>\n",
       "      <td>NaN</td>\n",
       "      <td>NaN</td>\n",
       "      <td>NaN</td>\n",
       "      <td>NaN</td>\n",
       "      <td>NaN</td>\n",
       "    </tr>\n",
       "    <tr>\n",
       "      <th>2</th>\n",
       "      <td>tt0004972</td>\n",
       "      <td>Lillian Gish</td>\n",
       "      <td>Mae Marsh</td>\n",
       "      <td>Henry B. Walthall</td>\n",
       "      <td>Miriam Cooper</td>\n",
       "      <td>NaN</td>\n",
       "      <td>NaN</td>\n",
       "      <td>NaN</td>\n",
       "      <td>NaN</td>\n",
       "      <td>NaN</td>\n",
       "      <td>NaN</td>\n",
       "    </tr>\n",
       "    <tr>\n",
       "      <th>3</th>\n",
       "      <td>tt0010418</td>\n",
       "      <td>Thomas Meighan</td>\n",
       "      <td>Theodore Roberts</td>\n",
       "      <td>Raymond Hatton</td>\n",
       "      <td>Robert Cain</td>\n",
       "      <td>NaN</td>\n",
       "      <td>NaN</td>\n",
       "      <td>NaN</td>\n",
       "      <td>NaN</td>\n",
       "      <td>NaN</td>\n",
       "      <td>NaN</td>\n",
       "    </tr>\n",
       "    <tr>\n",
       "      <th>4</th>\n",
       "      <td>tt0011130</td>\n",
       "      <td>John Barrymore</td>\n",
       "      <td>Martha Mansfield</td>\n",
       "      <td>Brandon Hurst</td>\n",
       "      <td>Charles Lane</td>\n",
       "      <td>NaN</td>\n",
       "      <td>NaN</td>\n",
       "      <td>NaN</td>\n",
       "      <td>NaN</td>\n",
       "      <td>NaN</td>\n",
       "      <td>NaN</td>\n",
       "    </tr>\n",
       "  </tbody>\n",
       "</table>\n",
       "</div>"
      ],
      "text/plain": [
       "      tconst                         0                 1                  2  \\\n",
       "0  tt0003740  Italia Almirante-Manzini    Lidia Quaranta  Bartolomeo Pagano   \n",
       "1  tt0004707           Charles Chaplin    Marie Dressler      Mabel Normand   \n",
       "2  tt0004972              Lillian Gish         Mae Marsh  Henry B. Walthall   \n",
       "3  tt0010418            Thomas Meighan  Theodore Roberts     Raymond Hatton   \n",
       "4  tt0011130            John Barrymore  Martha Mansfield      Brandon Hurst   \n",
       "\n",
       "                 3    4    5    6    7    8    9  \n",
       "0  Carolina Catena  NaN  NaN  NaN  NaN  NaN  NaN  \n",
       "1       Mack Swain  NaN  NaN  NaN  NaN  NaN  NaN  \n",
       "2    Miriam Cooper  NaN  NaN  NaN  NaN  NaN  NaN  \n",
       "3      Robert Cain  NaN  NaN  NaN  NaN  NaN  NaN  \n",
       "4     Charles Lane  NaN  NaN  NaN  NaN  NaN  NaN  "
      ]
     },
     "execution_count": 112,
     "metadata": {},
     "output_type": "execute_result"
    }
   ],
   "source": [
    "imdb_df_act = imdb_df_act.reset_index()\n",
    "imdb_df_act.head()"
   ]
  },
  {
   "cell_type": "code",
   "execution_count": 114,
   "metadata": {},
   "outputs": [
    {
     "data": {
      "text/html": [
       "<div>\n",
       "<style scoped>\n",
       "    .dataframe tbody tr th:only-of-type {\n",
       "        vertical-align: middle;\n",
       "    }\n",
       "\n",
       "    .dataframe tbody tr th {\n",
       "        vertical-align: top;\n",
       "    }\n",
       "\n",
       "    .dataframe thead th {\n",
       "        text-align: right;\n",
       "    }\n",
       "</style>\n",
       "<table border=\"1\" class=\"dataframe\">\n",
       "  <thead>\n",
       "    <tr style=\"text-align: right;\">\n",
       "      <th></th>\n",
       "      <th>Movie_Id</th>\n",
       "      <th>tconst</th>\n",
       "      <th>Year</th>\n",
       "      <th>Name</th>\n",
       "      <th>primaryTitle</th>\n",
       "      <th>titleType</th>\n",
       "      <th>runtimeMinutes</th>\n",
       "      <th>startYear</th>\n",
       "      <th>isAdult</th>\n",
       "      <th>genres</th>\n",
       "      <th>averageRating</th>\n",
       "      <th>numVotes</th>\n",
       "    </tr>\n",
       "  </thead>\n",
       "  <tbody>\n",
       "    <tr>\n",
       "      <th>0</th>\n",
       "      <td>3</td>\n",
       "      <td>tt0119448</td>\n",
       "      <td>1997.0</td>\n",
       "      <td>Character</td>\n",
       "      <td>Character</td>\n",
       "      <td>movie</td>\n",
       "      <td>122</td>\n",
       "      <td>1997.0</td>\n",
       "      <td>0</td>\n",
       "      <td>Crime,Drama,Mystery</td>\n",
       "      <td>7.7</td>\n",
       "      <td>10128.0</td>\n",
       "    </tr>\n",
       "    <tr>\n",
       "      <th>1</th>\n",
       "      <td>7</td>\n",
       "      <td>tt0182668</td>\n",
       "      <td>1992.0</td>\n",
       "      <td>8 Man</td>\n",
       "      <td>8 Man</td>\n",
       "      <td>movie</td>\n",
       "      <td>83</td>\n",
       "      <td>1992.0</td>\n",
       "      <td>0</td>\n",
       "      <td>Action,Sci-Fi</td>\n",
       "      <td>4.9</td>\n",
       "      <td>63.0</td>\n",
       "    </tr>\n",
       "    <tr>\n",
       "      <th>2</th>\n",
       "      <td>12</td>\n",
       "      <td>tt0039645</td>\n",
       "      <td>1947.0</td>\n",
       "      <td>My Favorite Brunette</td>\n",
       "      <td>My Favorite Brunette</td>\n",
       "      <td>movie</td>\n",
       "      <td>87</td>\n",
       "      <td>1947.0</td>\n",
       "      <td>0</td>\n",
       "      <td>Comedy,Crime,Film-Noir</td>\n",
       "      <td>6.8</td>\n",
       "      <td>2828.0</td>\n",
       "    </tr>\n",
       "    <tr>\n",
       "      <th>3</th>\n",
       "      <td>18</td>\n",
       "      <td>tt0110116</td>\n",
       "      <td>1994.0</td>\n",
       "      <td>Immortal Beloved</td>\n",
       "      <td>Immortal Beloved</td>\n",
       "      <td>movie</td>\n",
       "      <td>121</td>\n",
       "      <td>1994.0</td>\n",
       "      <td>0</td>\n",
       "      <td>Biography,Drama,Music</td>\n",
       "      <td>7.5</td>\n",
       "      <td>22186.0</td>\n",
       "    </tr>\n",
       "    <tr>\n",
       "      <th>4</th>\n",
       "      <td>20</td>\n",
       "      <td>tt0078222</td>\n",
       "      <td>1972.0</td>\n",
       "      <td>Seeta Aur Geeta</td>\n",
       "      <td>Seeta Aur Geeta</td>\n",
       "      <td>movie</td>\n",
       "      <td>162</td>\n",
       "      <td>1972.0</td>\n",
       "      <td>0</td>\n",
       "      <td>Comedy,Drama,Family</td>\n",
       "      <td>6.8</td>\n",
       "      <td>1569.0</td>\n",
       "    </tr>\n",
       "  </tbody>\n",
       "</table>\n",
       "</div>"
      ],
      "text/plain": [
       "   Movie_Id     tconst    Year                  Name          primaryTitle  \\\n",
       "0         3  tt0119448  1997.0             Character             Character   \n",
       "1         7  tt0182668  1992.0                 8 Man                 8 Man   \n",
       "2        12  tt0039645  1947.0  My Favorite Brunette  My Favorite Brunette   \n",
       "3        18  tt0110116  1994.0      Immortal Beloved      Immortal Beloved   \n",
       "4        20  tt0078222  1972.0       Seeta Aur Geeta       Seeta Aur Geeta   \n",
       "\n",
       "  titleType runtimeMinutes  startYear  isAdult                  genres  \\\n",
       "0     movie            122     1997.0        0     Crime,Drama,Mystery   \n",
       "1     movie             83     1992.0        0           Action,Sci-Fi   \n",
       "2     movie             87     1947.0        0  Comedy,Crime,Film-Noir   \n",
       "3     movie            121     1994.0        0   Biography,Drama,Music   \n",
       "4     movie            162     1972.0        0     Comedy,Drama,Family   \n",
       "\n",
       "   averageRating  numVotes  \n",
       "0            7.7   10128.0  \n",
       "1            4.9      63.0  \n",
       "2            6.8    2828.0  \n",
       "3            7.5   22186.0  \n",
       "4            6.8    1569.0  "
      ]
     },
     "execution_count": 114,
     "metadata": {},
     "output_type": "execute_result"
    }
   ],
   "source": [
    "merge_df.head()"
   ]
  },
  {
   "cell_type": "code",
   "execution_count": 137,
   "metadata": {},
   "outputs": [],
   "source": [
    "imdb_df_act.columns = ['tconst','Actor_0', 'Actor_1', 'Actor_2', 'Actor_3', 'Actor_4', 'Actor_5', 'Actor_6', 'Actor_7', 'Actor_8', 'Actor_9']\n",
    "imdb_df_dir.columns = ['tconst','Director_0', 'Director_1', 'Director_2', 'Director_3', 'Director_4', 'Director_5']"
   ]
  },
  {
   "cell_type": "code",
   "execution_count": 138,
   "metadata": {},
   "outputs": [
    {
     "data": {
      "text/html": [
       "<div>\n",
       "<style scoped>\n",
       "    .dataframe tbody tr th:only-of-type {\n",
       "        vertical-align: middle;\n",
       "    }\n",
       "\n",
       "    .dataframe tbody tr th {\n",
       "        vertical-align: top;\n",
       "    }\n",
       "\n",
       "    .dataframe thead th {\n",
       "        text-align: right;\n",
       "    }\n",
       "</style>\n",
       "<table border=\"1\" class=\"dataframe\">\n",
       "  <thead>\n",
       "    <tr style=\"text-align: right;\">\n",
       "      <th></th>\n",
       "      <th>tconst</th>\n",
       "      <th>Actor_0</th>\n",
       "      <th>Actor_1</th>\n",
       "      <th>Actor_2</th>\n",
       "      <th>Actor_3</th>\n",
       "      <th>Actor_4</th>\n",
       "      <th>Actor_5</th>\n",
       "      <th>Actor_6</th>\n",
       "      <th>Actor_7</th>\n",
       "      <th>Actor_8</th>\n",
       "      <th>Actor_9</th>\n",
       "    </tr>\n",
       "  </thead>\n",
       "  <tbody>\n",
       "    <tr>\n",
       "      <th>0</th>\n",
       "      <td>tt0003740</td>\n",
       "      <td>Italia Almirante-Manzini</td>\n",
       "      <td>Lidia Quaranta</td>\n",
       "      <td>Bartolomeo Pagano</td>\n",
       "      <td>Carolina Catena</td>\n",
       "      <td>NaN</td>\n",
       "      <td>NaN</td>\n",
       "      <td>NaN</td>\n",
       "      <td>NaN</td>\n",
       "      <td>NaN</td>\n",
       "      <td>NaN</td>\n",
       "    </tr>\n",
       "    <tr>\n",
       "      <th>1</th>\n",
       "      <td>tt0004707</td>\n",
       "      <td>Charles Chaplin</td>\n",
       "      <td>Marie Dressler</td>\n",
       "      <td>Mabel Normand</td>\n",
       "      <td>Mack Swain</td>\n",
       "      <td>NaN</td>\n",
       "      <td>NaN</td>\n",
       "      <td>NaN</td>\n",
       "      <td>NaN</td>\n",
       "      <td>NaN</td>\n",
       "      <td>NaN</td>\n",
       "    </tr>\n",
       "    <tr>\n",
       "      <th>2</th>\n",
       "      <td>tt0004972</td>\n",
       "      <td>Lillian Gish</td>\n",
       "      <td>Mae Marsh</td>\n",
       "      <td>Henry B. Walthall</td>\n",
       "      <td>Miriam Cooper</td>\n",
       "      <td>NaN</td>\n",
       "      <td>NaN</td>\n",
       "      <td>NaN</td>\n",
       "      <td>NaN</td>\n",
       "      <td>NaN</td>\n",
       "      <td>NaN</td>\n",
       "    </tr>\n",
       "    <tr>\n",
       "      <th>3</th>\n",
       "      <td>tt0010418</td>\n",
       "      <td>Thomas Meighan</td>\n",
       "      <td>Theodore Roberts</td>\n",
       "      <td>Raymond Hatton</td>\n",
       "      <td>Robert Cain</td>\n",
       "      <td>NaN</td>\n",
       "      <td>NaN</td>\n",
       "      <td>NaN</td>\n",
       "      <td>NaN</td>\n",
       "      <td>NaN</td>\n",
       "      <td>NaN</td>\n",
       "    </tr>\n",
       "    <tr>\n",
       "      <th>4</th>\n",
       "      <td>tt0011130</td>\n",
       "      <td>John Barrymore</td>\n",
       "      <td>Martha Mansfield</td>\n",
       "      <td>Brandon Hurst</td>\n",
       "      <td>Charles Lane</td>\n",
       "      <td>NaN</td>\n",
       "      <td>NaN</td>\n",
       "      <td>NaN</td>\n",
       "      <td>NaN</td>\n",
       "      <td>NaN</td>\n",
       "      <td>NaN</td>\n",
       "    </tr>\n",
       "  </tbody>\n",
       "</table>\n",
       "</div>"
      ],
      "text/plain": [
       "      tconst                   Actor_0           Actor_1            Actor_2  \\\n",
       "0  tt0003740  Italia Almirante-Manzini    Lidia Quaranta  Bartolomeo Pagano   \n",
       "1  tt0004707           Charles Chaplin    Marie Dressler      Mabel Normand   \n",
       "2  tt0004972              Lillian Gish         Mae Marsh  Henry B. Walthall   \n",
       "3  tt0010418            Thomas Meighan  Theodore Roberts     Raymond Hatton   \n",
       "4  tt0011130            John Barrymore  Martha Mansfield      Brandon Hurst   \n",
       "\n",
       "           Actor_3 Actor_4 Actor_5 Actor_6 Actor_7 Actor_8 Actor_9  \n",
       "0  Carolina Catena     NaN     NaN     NaN     NaN     NaN     NaN  \n",
       "1       Mack Swain     NaN     NaN     NaN     NaN     NaN     NaN  \n",
       "2    Miriam Cooper     NaN     NaN     NaN     NaN     NaN     NaN  \n",
       "3      Robert Cain     NaN     NaN     NaN     NaN     NaN     NaN  \n",
       "4     Charles Lane     NaN     NaN     NaN     NaN     NaN     NaN  "
      ]
     },
     "execution_count": 138,
     "metadata": {},
     "output_type": "execute_result"
    }
   ],
   "source": [
    "imdb_df_act.head()"
   ]
  },
  {
   "cell_type": "code",
   "execution_count": null,
   "metadata": {},
   "outputs": [],
   "source": [
    "## Final Dataset"
   ]
  },
  {
   "cell_type": "code",
   "execution_count": 140,
   "metadata": {},
   "outputs": [
    {
     "data": {
      "text/html": [
       "<div>\n",
       "<style scoped>\n",
       "    .dataframe tbody tr th:only-of-type {\n",
       "        vertical-align: middle;\n",
       "    }\n",
       "\n",
       "    .dataframe tbody tr th {\n",
       "        vertical-align: top;\n",
       "    }\n",
       "\n",
       "    .dataframe thead th {\n",
       "        text-align: right;\n",
       "    }\n",
       "</style>\n",
       "<table border=\"1\" class=\"dataframe\">\n",
       "  <thead>\n",
       "    <tr style=\"text-align: right;\">\n",
       "      <th></th>\n",
       "      <th>Movie_Id</th>\n",
       "      <th>tconst</th>\n",
       "      <th>Year</th>\n",
       "      <th>Name</th>\n",
       "      <th>primaryTitle</th>\n",
       "      <th>titleType</th>\n",
       "      <th>runtimeMinutes</th>\n",
       "      <th>startYear</th>\n",
       "      <th>isAdult</th>\n",
       "      <th>genres</th>\n",
       "      <th>...</th>\n",
       "      <th>Actor_6</th>\n",
       "      <th>Actor_7</th>\n",
       "      <th>Actor_8</th>\n",
       "      <th>Actor_9</th>\n",
       "      <th>Director_0</th>\n",
       "      <th>Director_1</th>\n",
       "      <th>Director_2</th>\n",
       "      <th>Director_3</th>\n",
       "      <th>Director_4</th>\n",
       "      <th>Director_5</th>\n",
       "    </tr>\n",
       "  </thead>\n",
       "  <tbody>\n",
       "    <tr>\n",
       "      <th>0</th>\n",
       "      <td>3</td>\n",
       "      <td>tt0119448</td>\n",
       "      <td>1997.0</td>\n",
       "      <td>Character</td>\n",
       "      <td>Character</td>\n",
       "      <td>movie</td>\n",
       "      <td>122</td>\n",
       "      <td>1997.0</td>\n",
       "      <td>0</td>\n",
       "      <td>Crime,Drama,Mystery</td>\n",
       "      <td>...</td>\n",
       "      <td>NaN</td>\n",
       "      <td>NaN</td>\n",
       "      <td>NaN</td>\n",
       "      <td>NaN</td>\n",
       "      <td>Mike van Diem</td>\n",
       "      <td>NaN</td>\n",
       "      <td>NaN</td>\n",
       "      <td>NaN</td>\n",
       "      <td>NaN</td>\n",
       "      <td>NaN</td>\n",
       "    </tr>\n",
       "    <tr>\n",
       "      <th>1</th>\n",
       "      <td>7</td>\n",
       "      <td>tt0182668</td>\n",
       "      <td>1992.0</td>\n",
       "      <td>8 Man</td>\n",
       "      <td>8 Man</td>\n",
       "      <td>movie</td>\n",
       "      <td>83</td>\n",
       "      <td>1992.0</td>\n",
       "      <td>0</td>\n",
       "      <td>Action,Sci-Fi</td>\n",
       "      <td>...</td>\n",
       "      <td>NaN</td>\n",
       "      <td>NaN</td>\n",
       "      <td>NaN</td>\n",
       "      <td>NaN</td>\n",
       "      <td>Yasuhiro Horiuchi</td>\n",
       "      <td>NaN</td>\n",
       "      <td>NaN</td>\n",
       "      <td>NaN</td>\n",
       "      <td>NaN</td>\n",
       "      <td>NaN</td>\n",
       "    </tr>\n",
       "    <tr>\n",
       "      <th>2</th>\n",
       "      <td>12</td>\n",
       "      <td>tt0039645</td>\n",
       "      <td>1947.0</td>\n",
       "      <td>My Favorite Brunette</td>\n",
       "      <td>My Favorite Brunette</td>\n",
       "      <td>movie</td>\n",
       "      <td>87</td>\n",
       "      <td>1947.0</td>\n",
       "      <td>0</td>\n",
       "      <td>Comedy,Crime,Film-Noir</td>\n",
       "      <td>...</td>\n",
       "      <td>NaN</td>\n",
       "      <td>NaN</td>\n",
       "      <td>NaN</td>\n",
       "      <td>NaN</td>\n",
       "      <td>Elliott Nugent</td>\n",
       "      <td>NaN</td>\n",
       "      <td>NaN</td>\n",
       "      <td>NaN</td>\n",
       "      <td>NaN</td>\n",
       "      <td>NaN</td>\n",
       "    </tr>\n",
       "    <tr>\n",
       "      <th>3</th>\n",
       "      <td>18</td>\n",
       "      <td>tt0110116</td>\n",
       "      <td>1994.0</td>\n",
       "      <td>Immortal Beloved</td>\n",
       "      <td>Immortal Beloved</td>\n",
       "      <td>movie</td>\n",
       "      <td>121</td>\n",
       "      <td>1994.0</td>\n",
       "      <td>0</td>\n",
       "      <td>Biography,Drama,Music</td>\n",
       "      <td>...</td>\n",
       "      <td>NaN</td>\n",
       "      <td>NaN</td>\n",
       "      <td>NaN</td>\n",
       "      <td>NaN</td>\n",
       "      <td>Bernard Rose</td>\n",
       "      <td>NaN</td>\n",
       "      <td>NaN</td>\n",
       "      <td>NaN</td>\n",
       "      <td>NaN</td>\n",
       "      <td>NaN</td>\n",
       "    </tr>\n",
       "    <tr>\n",
       "      <th>4</th>\n",
       "      <td>20</td>\n",
       "      <td>tt0078222</td>\n",
       "      <td>1972.0</td>\n",
       "      <td>Seeta Aur Geeta</td>\n",
       "      <td>Seeta Aur Geeta</td>\n",
       "      <td>movie</td>\n",
       "      <td>162</td>\n",
       "      <td>1972.0</td>\n",
       "      <td>0</td>\n",
       "      <td>Comedy,Drama,Family</td>\n",
       "      <td>...</td>\n",
       "      <td>NaN</td>\n",
       "      <td>NaN</td>\n",
       "      <td>NaN</td>\n",
       "      <td>NaN</td>\n",
       "      <td>Ramesh Sippy</td>\n",
       "      <td>NaN</td>\n",
       "      <td>NaN</td>\n",
       "      <td>NaN</td>\n",
       "      <td>NaN</td>\n",
       "      <td>NaN</td>\n",
       "    </tr>\n",
       "  </tbody>\n",
       "</table>\n",
       "<p>5 rows × 28 columns</p>\n",
       "</div>"
      ],
      "text/plain": [
       "   Movie_Id     tconst    Year                  Name          primaryTitle  \\\n",
       "0         3  tt0119448  1997.0             Character             Character   \n",
       "1         7  tt0182668  1992.0                 8 Man                 8 Man   \n",
       "2        12  tt0039645  1947.0  My Favorite Brunette  My Favorite Brunette   \n",
       "3        18  tt0110116  1994.0      Immortal Beloved      Immortal Beloved   \n",
       "4        20  tt0078222  1972.0       Seeta Aur Geeta       Seeta Aur Geeta   \n",
       "\n",
       "  titleType runtimeMinutes  startYear  isAdult                  genres  \\\n",
       "0     movie            122     1997.0        0     Crime,Drama,Mystery   \n",
       "1     movie             83     1992.0        0           Action,Sci-Fi   \n",
       "2     movie             87     1947.0        0  Comedy,Crime,Film-Noir   \n",
       "3     movie            121     1994.0        0   Biography,Drama,Music   \n",
       "4     movie            162     1972.0        0     Comedy,Drama,Family   \n",
       "\n",
       "     ...      Actor_6  Actor_7 Actor_8 Actor_9         Director_0 Director_1  \\\n",
       "0    ...          NaN      NaN     NaN     NaN      Mike van Diem        NaN   \n",
       "1    ...          NaN      NaN     NaN     NaN  Yasuhiro Horiuchi        NaN   \n",
       "2    ...          NaN      NaN     NaN     NaN     Elliott Nugent        NaN   \n",
       "3    ...          NaN      NaN     NaN     NaN       Bernard Rose        NaN   \n",
       "4    ...          NaN      NaN     NaN     NaN       Ramesh Sippy        NaN   \n",
       "\n",
       "  Director_2 Director_3 Director_4 Director_5  \n",
       "0        NaN        NaN        NaN        NaN  \n",
       "1        NaN        NaN        NaN        NaN  \n",
       "2        NaN        NaN        NaN        NaN  \n",
       "3        NaN        NaN        NaN        NaN  \n",
       "4        NaN        NaN        NaN        NaN  \n",
       "\n",
       "[5 rows x 28 columns]"
      ]
     },
     "execution_count": 140,
     "metadata": {},
     "output_type": "execute_result"
    }
   ],
   "source": [
    "merge_df = pd.merge(merge_df, imdb_df_act, on = ['tconst'], how = \"left\")\n",
    "merge_df = pd.merge(merge_df, imdb_df_dir, on = ['tconst'], how = \"left\")\n",
    "merge_df.head()"
   ]
  },
  {
   "cell_type": "code",
   "execution_count": 142,
   "metadata": {},
   "outputs": [],
   "source": [
    "merge_df.to_csv(\"./IMDB_Data/Title_Data_Final.csv\")"
   ]
  }
 ],
 "metadata": {
  "kernelspec": {
   "display_name": "pySpark 4G 32e",
   "language": "python",
   "name": "pyspark2_4g32e"
  },
  "language_info": {
   "codemirror_mode": {
    "name": "ipython",
    "version": 3
   },
   "file_extension": ".py",
   "mimetype": "text/x-python",
   "name": "python",
   "nbconvert_exporter": "python",
   "pygments_lexer": "ipython3",
   "version": "3.6.8"
  }
 },
 "nbformat": 4,
 "nbformat_minor": 2
}
