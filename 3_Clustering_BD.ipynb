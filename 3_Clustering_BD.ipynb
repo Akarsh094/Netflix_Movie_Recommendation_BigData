{
 "cells": [
  {
   "cell_type": "code",
   "execution_count": 1,
   "metadata": {},
   "outputs": [],
   "source": [
    "from pyspark.mllib.util import MLUtils\n",
    "from pyspark.ml.feature import StandardScaler\n",
    "from pyspark.sql.functions import mean, stddev, col\n",
    "from pyspark.ml.feature import VectorAssembler\n",
    "from pyspark.ml.clustering import KMeans\n",
    "import numpy as np\n",
    "import matplotlib.pyplot as plt"
   ]
  },
  {
   "cell_type": "code",
   "execution_count": 2,
   "metadata": {},
   "outputs": [],
   "source": [
    "from pyspark.sql import SparkSession\n",
    "spark = SparkSession.builder.appName('CustomerCluster').getOrCreate()"
   ]
  },
  {
   "cell_type": "markdown",
   "metadata": {},
   "source": [
    "### Read data from previous script"
   ]
  },
  {
   "cell_type": "code",
   "execution_count": 3,
   "metadata": {},
   "outputs": [],
   "source": [
    "from pyspark.sql import HiveContext\n",
    "hive_context = HiveContext(sc)"
   ]
  },
  {
   "cell_type": "code",
   "execution_count": 4,
   "metadata": {
    "scrolled": true
   },
   "outputs": [
    {
     "name": "stdout",
     "output_type": "stream",
     "text": [
      "+-------+------------+-------------------+-------------------+---------------------+-------------------+-------------------+--------------------+--------------------+--------------------+-------------------+--------------------+-------------------+------------------+------------------+------------------+------------------+------------------+------------------+------------------+---------------+------------------+------------------+\n",
      "|Cust_Id|total_movies|   top_actor_movies|top_director_movies|total_adultage_movies|total_action_movies| total_scifi_movies|total_history_movies|total_musical_movies|total_romance_movies| total_drama_movies|   total_noir_movies|total_comedy_movies|avg_overall_rating| avg_action_rating|  avg_scifi_rating|avg_history_rating|avg_musical_rating|avg_romance_rating|  avg_drama_rating|avg_noir_rating| avg_comedy_rating|       avg_runtime|\n",
      "+-------+------------+-------------------+-------------------+---------------------+-------------------+-------------------+--------------------+--------------------+--------------------+-------------------+--------------------+-------------------+------------------+------------------+------------------+------------------+------------------+------------------+------------------+---------------+------------------+------------------+\n",
      "|  66871|         340|0.27058823529411763|0.29411764705882354| 0.002941176470588...| 0.5647058823529412|0.19411764705882353| 0.15588235294117647|0.041176470588235294| 0.12352941176470589| 0.6441176470588236| 0.04411764705882353| 0.2823529411764706|3.4411764705882355|3.3697916666666665| 3.196969696969697|3.6792452830188678| 2.857142857142857|3.3333333333333335| 3.593607305936073|            4.0|3.2604166666666665|112.60588235294118|\n",
      "|2244834|         370| 0.3324324324324324|0.25405405405405407|                  0.0| 0.4540540540540541| 0.1972972972972973| 0.22972972972972974| 0.07297297297297298| 0.13513513513513514| 0.7243243243243244|0.005405405405405406| 0.3081081081081081|3.3567567567567567|3.3035714285714284|  3.26027397260274|3.7529411764705882| 3.074074074074074|               3.0| 3.529850746268657|            5.0|2.8596491228070176|116.96486486486486|\n",
      "|1781728|         131|0.22900763358778625|0.15267175572519084|                  0.0|0.37404580152671757| 0.1984732824427481| 0.07633587786259542|  0.0916030534351145| 0.31297709923664124|0.48091603053435117|0.007633587786259542|  0.549618320610687|3.8091603053435112| 3.489795918367347|3.9615384615384617|               3.1|               4.5| 3.926829268292683|3.9523809523809526|            5.0|3.9027777777777777|107.37404580152672|\n",
      "|   8158|         502|0.20318725099601595| 0.2549800796812749|                  0.0| 0.7131474103585658| 0.2749003984063745|  0.0697211155378486| 0.03386454183266932| 0.05976095617529881|0.48804780876494025|  0.0398406374501992|0.25697211155378485| 4.219123505976095| 4.162011173184357| 4.239130434782608|4.3428571428571425| 4.588235294117647| 3.966666666666667| 4.208163265306123|           4.35| 4.333333333333333|  109.579476861167|\n",
      "|2193762|         343|0.35276967930029157|0.12244897959183673|                  0.0|0.46647230320699706| 0.2099125364431487| 0.21574344023323616|0.052478134110787174| 0.23323615160349853| 0.6209912536443148|                 0.0|0.30903790087463556|3.5830903790087465|            3.4625| 3.361111111111111| 3.864864864864865|3.7222222222222223|            3.6625| 3.704225352112676|           null|3.4339622641509435|114.01759530791789|\n",
      "+-------+------------+-------------------+-------------------+---------------------+-------------------+-------------------+--------------------+--------------------+--------------------+-------------------+--------------------+-------------------+------------------+------------------+------------------+------------------+------------------+------------------+------------------+---------------+------------------+------------------+\n",
      "only showing top 5 rows\n",
      "\n"
     ]
    }
   ],
   "source": [
    "data = hive_context.table(\"mwehr.processed_customer_dataset\")\n",
    "data.show(5)"
   ]
  },
  {
   "cell_type": "code",
   "execution_count": 5,
   "metadata": {
    "scrolled": true
   },
   "outputs": [
    {
     "name": "stdout",
     "output_type": "stream",
     "text": [
      "root\n",
      " |-- Cust_Id: integer (nullable = true)\n",
      " |-- total_movies: long (nullable = true)\n",
      " |-- top_actor_movies: double (nullable = true)\n",
      " |-- top_director_movies: double (nullable = true)\n",
      " |-- total_adultage_movies: double (nullable = true)\n",
      " |-- total_action_movies: double (nullable = true)\n",
      " |-- total_scifi_movies: double (nullable = true)\n",
      " |-- total_history_movies: double (nullable = true)\n",
      " |-- total_musical_movies: double (nullable = true)\n",
      " |-- total_romance_movies: double (nullable = true)\n",
      " |-- total_drama_movies: double (nullable = true)\n",
      " |-- total_noir_movies: double (nullable = true)\n",
      " |-- total_comedy_movies: double (nullable = true)\n",
      " |-- avg_overall_rating: double (nullable = true)\n",
      " |-- avg_action_rating: double (nullable = true)\n",
      " |-- avg_scifi_rating: double (nullable = true)\n",
      " |-- avg_history_rating: double (nullable = true)\n",
      " |-- avg_musical_rating: double (nullable = true)\n",
      " |-- avg_romance_rating: double (nullable = true)\n",
      " |-- avg_drama_rating: double (nullable = true)\n",
      " |-- avg_noir_rating: double (nullable = true)\n",
      " |-- avg_comedy_rating: double (nullable = true)\n",
      " |-- avg_runtime: double (nullable = true)\n",
      "\n"
     ]
    }
   ],
   "source": [
    "data.printSchema()"
   ]
  },
  {
   "cell_type": "markdown",
   "metadata": {},
   "source": [
    "### Scale columns\n",
    "\n",
    "Drop all na values"
   ]
  },
  {
   "cell_type": "code",
   "execution_count": 6,
   "metadata": {},
   "outputs": [],
   "source": [
    "data = data.na.drop()"
   ]
  },
  {
   "cell_type": "markdown",
   "metadata": {},
   "source": [
    "Select columns that are relevant for clustering"
   ]
  },
  {
   "cell_type": "code",
   "execution_count": 7,
   "metadata": {},
   "outputs": [],
   "source": [
    "FEATURES_COL = data.columns[1::]"
   ]
  },
  {
   "cell_type": "markdown",
   "metadata": {},
   "source": [
    "Convert to float (needed to make it readable for KMeans)"
   ]
  },
  {
   "cell_type": "code",
   "execution_count": 8,
   "metadata": {},
   "outputs": [],
   "source": [
    "for col in data.columns:\n",
    "    if col in FEATURES_COL:\n",
    "        data = data.withColumn(col,data[col].cast('float'))"
   ]
  },
  {
   "cell_type": "markdown",
   "metadata": {},
   "source": [
    "Save all features in one vector. In this way KMeans for pyspark is different from sklearn, as it only takes a vector of features as input, not multiple columns"
   ]
  },
  {
   "cell_type": "code",
   "execution_count": 9,
   "metadata": {},
   "outputs": [],
   "source": [
    "vecAssembler = VectorAssembler(inputCols=FEATURES_COL, outputCol=\"features\", handleInvalid=\"keep\")\n",
    "df_kmeans = vecAssembler.transform(data).select(\"Cust_Id\", \"features\")"
   ]
  },
  {
   "cell_type": "markdown",
   "metadata": {},
   "source": [
    "Finally, scaling vectorized columns"
   ]
  },
  {
   "cell_type": "code",
   "execution_count": 10,
   "metadata": {},
   "outputs": [],
   "source": [
    "scaler = StandardScaler(inputCol=\"features\", outputCol=\"scaled_features\", withStd=True, withMean=False)"
   ]
  },
  {
   "cell_type": "code",
   "execution_count": 11,
   "metadata": {},
   "outputs": [],
   "source": [
    "# Compute summary statistics by fitting the StandardScaler\n",
    "scalerModel = scaler.fit(df_kmeans)"
   ]
  },
  {
   "cell_type": "code",
   "execution_count": 12,
   "metadata": {},
   "outputs": [],
   "source": [
    "# Normalize each feature to have unit standard deviation.\n",
    "df_kmeans = scalerModel.transform(df_kmeans)"
   ]
  },
  {
   "cell_type": "markdown",
   "metadata": {},
   "source": [
    "### Select optimal k value\n",
    "\n",
    "Calculating the cost function for different values of k"
   ]
  },
  {
   "cell_type": "code",
   "execution_count": 13,
   "metadata": {},
   "outputs": [],
   "source": [
    "cost = np.zeros(10)\n",
    "for k in range(2,10):\n",
    "    kmeans = KMeans().setK(k).setSeed(1).setFeaturesCol(\"scaled_features\").setPredictionCol(\"cluster\")\n",
    "    model = kmeans.fit(df_kmeans.sample(False,0.1, seed=42))\n",
    "    cost[k] = model.computeCost(df_kmeans)"
   ]
  },
  {
   "cell_type": "markdown",
   "metadata": {},
   "source": [
    "Plotting the results and look for the \"elbow\" in the cost function"
   ]
  },
  {
   "cell_type": "code",
   "execution_count": 14,
   "metadata": {
    "scrolled": true
   },
   "outputs": [
    {
     "data": {
      "text/plain": [
       "Text(0,0.5,'cost')"
      ]
     },
     "execution_count": 14,
     "metadata": {},
     "output_type": "execute_result"
    },
    {
     "data": {
      "image/png": "[encoded data removed]",
      "text/plain": [
       "<Figure size 576x432 with 1 Axes>"
      ]
     },
     "metadata": {},
     "output_type": "display_data"
    }
   ],
   "source": [
    "fig, ax = plt.subplots(1,1, figsize =(8,6))\n",
    "ax.plot(range(2,10),cost[2:10])\n",
    "ax.set_xlabel('k')\n",
    "ax.set_ylabel('cost')"
   ]
  },
  {
   "cell_type": "markdown",
   "metadata": {},
   "source": [
    "It seems like k=6 would a good choice, since the gain after that is less steep but it is still a manageable size"
   ]
  },
  {
   "cell_type": "markdown",
   "metadata": {},
   "source": [
    "### Running KMeans\n",
    "\n",
    "Apply KMeans algorithm to the vectorized dataframe and return cluster centers"
   ]
  },
  {
   "cell_type": "code",
   "execution_count": 15,
   "metadata": {},
   "outputs": [],
   "source": [
    "k = 6\n",
    "kmeans = KMeans().setK(k).setSeed(1).setFeaturesCol(\"scaled_features\")\n",
    "model = kmeans.fit(df_kmeans)\n",
    "centers = model.clusterCenters()"
   ]
  },
  {
   "cell_type": "markdown",
   "metadata": {},
   "source": [
    "Transform model and return dataframe that that has customer id and cluster"
   ]
  },
  {
   "cell_type": "code",
   "execution_count": 16,
   "metadata": {},
   "outputs": [],
   "source": [
    "transformed = model.transform(df_kmeans).select(\"Cust_Id\", \"prediction\")\n",
    "rows = transformed.collect()"
   ]
  },
  {
   "cell_type": "code",
   "execution_count": 17,
   "metadata": {},
   "outputs": [
    {
     "name": "stdout",
     "output_type": "stream",
     "text": [
      "+-------+----------+\n",
      "|Cust_Id|prediction|\n",
      "+-------+----------+\n",
      "|  66871|         4|\n",
      "|2244834|         4|\n",
      "|1781728|         1|\n",
      "|   8158|         3|\n",
      "|2314776|         4|\n",
      "| 804617|         4|\n",
      "|1264196|         2|\n",
      "|2148279|         3|\n",
      "| 458697|         3|\n",
      "|2604811|         3|\n",
      "|1683479|         1|\n",
      "|1474256|         3|\n",
      "| 333069|         4|\n",
      "| 443828|         2|\n",
      "|2360740|         1|\n",
      "|  32346|         5|\n",
      "|1000192|         5|\n",
      "|1894937|         1|\n",
      "|1742099|         4|\n",
      "|1066801|         2|\n",
      "+-------+----------+\n",
      "only showing top 20 rows\n",
      "\n"
     ]
    }
   ],
   "source": [
    "df_pred = sqlContext.createDataFrame(rows)\n",
    "df_pred.show()"
   ]
  },
  {
   "cell_type": "markdown",
   "metadata": {},
   "source": [
    "Rename prediction column to \"cluster\""
   ]
  },
  {
   "cell_type": "code",
   "execution_count": 25,
   "metadata": {},
   "outputs": [],
   "source": [
    "df_pred = df_pred.withColumnRenamed(\"prediction\", \"cluster\")"
   ]
  },
  {
   "cell_type": "markdown",
   "metadata": {},
   "source": [
    "### Save table in contributor's directions"
   ]
  },
  {
   "cell_type": "code",
   "execution_count": 28,
   "metadata": {},
   "outputs": [],
   "source": [
    "df_pred.write.saveAsTable(\"akarshsahu.clustered_customer\")\n",
    "df_pred.write.saveAsTable(\"aghose.clustered_customer\")\n",
    "df_pred.write.saveAsTable(\"mwehr.clustered_customer\")"
   ]
  },
  {
   "cell_type": "code",
   "execution_count": null,
   "metadata": {},
   "outputs": [],
   "source": []
  }
 ],
 "metadata": {
  "kernelspec": {
   "display_name": "pySpark 4G 32e",
   "language": "python",
   "name": "pyspark2_4g32e"
  },
  "language_info": {
   "codemirror_mode": {
    "name": "ipython",
    "version": 3
   },
   "file_extension": ".py",
   "mimetype": "text/x-python",
   "name": "python",
   "nbconvert_exporter": "python",
   "pygments_lexer": "ipython3",
   "version": "3.6.8"
  }
 },
 "nbformat": 4,
 "nbformat_minor": 2
}
